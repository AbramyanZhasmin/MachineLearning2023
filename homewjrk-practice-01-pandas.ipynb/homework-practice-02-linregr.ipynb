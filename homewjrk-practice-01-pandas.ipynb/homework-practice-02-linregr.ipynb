{
 "cells": [
  {
   "cell_type": "markdown",
   "metadata": {},
   "source": [
    "# Домашнее задание 2 - предобработка признаков, pandas\n",
    "\n",
    "\n",
    "### О задании\n",
    "\n",
    "Практическое задание 2 посвящено изучению основных библиотек для анализа данных, а также линейных моделей и методов их обучения. Вы научитесь:\n",
    " * применять библиотеки NumPy и Pandas для осуществления желаемых преобразований;\n",
    " * подготавливать данные для обучения линейных моделей;\n",
    " * обучать линейную, Lasso и Ridge-регрессии при помощи модуля scikit-learn;\n",
    " * реализовывать обычный и стохастический градиентные спуски;\n",
    " * обучать линейную регрессию для произвольного функционала качества.\n",
    " \n",
    "\n",
    "### Оценивание и штрафы\n",
    "\n",
    "Каждая из задач имеет определенную «стоимость» (указана в скобках около задачи). Максимально допустимая оценка за работу — 10 баллов. Кроме того, некоторые из заданий являются опциональными (необязательными), однако за их выполнение можно получить дополнительные баллы, которые позднее будут учитываться при проставлении оценок автоматом по курсу.\n",
    "\n",
    "Сдавать задание после указанного срока сдачи нельзя. При выставлении неполного балла за задание в связи с наличием ошибок на усмотрение проверяющего предусмотрена возможность исправить работу на указанных в ответном письме условиях.\n",
    "\n",
    "Задание выполняется самостоятельно. «Похожие» решения считаются плагиатом и все задействованные студенты (в том числе те, у кого списали) не могут получить за него больше 0 баллов. Если вы нашли решение какого-то из заданий (или его часть) в открытом источнике, необходимо указать ссылку на этот источник в отдельном блоке в конце Вашей работы (скорее всего вы будете не единственным, кто это нашел, поэтому чтобы исключить подозрение в плагиате, необходима ссылка на источник). \n",
    "\n",
    "Неэффективная реализация кода может негативно отразиться на оценке.\n",
    "\n",
    "\n",
    "### Формат сдачи\n",
    "Для сдачи задания получившийся файл \\*.ipynb с решением необходимо выложить в свой репозиторий github."
   ]
  },
  {
   "cell_type": "markdown",
   "metadata": {},
   "source": [
    "## Библиотеки для анализа данных\n",
    "\n",
    "### NumPy\n",
    "\n",
    "Во всех заданиях данного раздела запрещено использовать циклы  и list comprehensions. Под вектором и матрицей в данных заданиях понимается одномерный и двумерный numpy.array соответственно."
   ]
  },
  {
   "cell_type": "code",
   "execution_count": 4,
   "metadata": {},
   "outputs": [],
   "source": [
    "\n",
    "\n",
    "import numpy as np\n"
   ]
  },
  {
   "cell_type": "markdown",
   "metadata": {},
   "source": [
    "**1. (0.2 балла)** Реализуйте функцию, возвращающую максимальный элемент в векторе x среди элементов, перед которыми стоит нулевой. Для x = np.array([6, 2, 0, 3, 0, 0, 5, 7, 0]) ответом является 5. Если нулевых элементов нет, функция должна возвращать None.\n"
   ]
  },
  {
   "cell_type": "code",
   "execution_count": 5,
   "metadata": {},
   "outputs": [
    {
     "data": {
      "text/plain": [
       "5"
      ]
     },
     "execution_count": 5,
     "metadata": {},
     "output_type": "execute_result"
    }
   ],
   "source": [
    "def max_element(arr):\n",
    "    elem = np.zeros(len(arr))\n",
    "    elem[1:] = (arr == 0)[:-1]\n",
    "    arr = arr[np.where(elem == True)]\n",
    "    return arr.max()\n",
    "max_element(np.array([6, 2, 0, 3, 0, 0, 5, 7, 0]))"
   ]
  },
  {
   "cell_type": "markdown",
   "metadata": {},
   "source": [
    "**2. (0.2 балла)** Реализуйте функцию, принимающую на вход матрицу и некоторое число и возвращающую ближайший к числу элемент матрицы. Например: для X = np.arange(0,10).reshape((2, 5)) и v = 3.6 ответом будет 4."
   ]
  },
  {
   "cell_type": "code",
   "execution_count": 7,
   "metadata": {},
   "outputs": [
    {
     "name": "stdout",
     "output_type": "stream",
     "text": [
      "4.0\n"
     ]
    }
   ],
   "source": [
    "def nearest_value(X, v):\n",
    "    return np.min(np.abs(X - v)) + v\n",
    "\n",
    "X = np.arange(0,10).reshape((2, 5))\n",
    "v = 3.6\n",
    "print(nearest_value(X, v))"
   ]
  },
  {
   "cell_type": "code",
   "execution_count": null,
   "metadata": {},
   "outputs": [],
   "source": []
  },
  {
   "cell_type": "code",
   "execution_count": null,
   "metadata": {},
   "outputs": [],
   "source": []
  },
  {
   "cell_type": "markdown",
   "metadata": {},
   "source": [
    "**3. (0.2 балла)** Реализуйте функцию scale(X), которая принимает на вход матрицу и масштабирует каждый ее столбец (вычитает выборочное среднее и делит на стандартное отклонение). Убедитесь, что в функции не будет происходить деления на ноль. Протестируйте на случайной матрице (для её генерации можно использовать, например, функцию [numpy.random.randint](http://docs.scipy.org/doc/numpy/reference/generated/numpy.random.randint.html))."
   ]
  },
  {
   "cell_type": "code",
   "execution_count": 10,
   "metadata": {},
   "outputs": [
    {
     "name": "stdout",
     "output_type": "stream",
     "text": [
      "[[8 4 6 6]\n",
      " [7 8 4 6]\n",
      " [7 6 1 2]\n",
      " [3 0 9 3]]\n",
      "[[ 0.91132238 -0.16903085  0.34299717  0.98019606]\n",
      " [ 0.39056673  1.18321596 -0.34299717  0.98019606]\n",
      " [ 0.39056673  0.50709255 -1.37198868 -1.26025208]\n",
      " [-1.69245584 -1.52127766  1.37198868 -0.70014004]]\n"
     ]
    }
   ],
   "source": [
    "\n",
    "def scale(X):\n",
    "    d = X.std(axis=0)\n",
    "    d[d == 0] = 1\n",
    "    X = X - X.mean(axis=0) \n",
    "    X /= d\n",
    "    return(X)\n",
    "\n",
    "X = np.random.randint(0, 10, (4, 4))\n",
    "print(X)\n",
    "print(scale(X))"
   ]
  },
  {
   "cell_type": "code",
   "execution_count": null,
   "metadata": {},
   "outputs": [],
   "source": []
  },
  {
   "cell_type": "code",
   "execution_count": null,
   "metadata": {},
   "outputs": [],
   "source": []
  },
  {
   "cell_type": "markdown",
   "metadata": {},
   "source": [
    "**4. (0.2 балла)** Реализуйте функцию, которая для заданной матрицы находит:\n",
    " - определитель\n",
    " - след\n",
    " - наименьший и наибольший элементы\n",
    " - норму Фробениуса\n",
    " - собственные числа\n",
    " - обратную матрицу\n",
    "\n",
    "Для тестирования сгенерируйте матрицу с элементами из нормального распределения $\\mathcal{N}$(10,1)"
   ]
  },
  {
   "cell_type": "code",
   "execution_count": 14,
   "metadata": {},
   "outputs": [
    {
     "data": {
      "text/plain": [
       "array([[ 9.8044954 ,  8.7040186 , 11.92022765],\n",
       "       [ 9.92132133, 10.11834317, 11.85544324],\n",
       "       [ 9.50076755, 10.30284894, 12.03780301]])"
      ]
     },
     "execution_count": 14,
     "metadata": {},
     "output_type": "execute_result"
    }
   ],
   "source": [
    "M = np.random.normal(10, 1, (3, 3))\n",
    "M"
   ]
  },
  {
   "cell_type": "code",
   "execution_count": 15,
   "metadata": {},
   "outputs": [],
   "source": [
    "def get_stats(X):\n",
    "    print(np.linalg.det(X))\n",
    "    print(np.trace(X))\n",
    "    print(X.max())\n",
    "    print(X.min())\n",
    "    print(np.linalg.norm(X))\n",
    "    print(np.linalg.eig(X)[0])\n",
    "    print('\\n', np.linalg.inv(X))"
   ]
  },
  {
   "cell_type": "code",
   "execution_count": 16,
   "metadata": {},
   "outputs": [
    {
     "name": "stdout",
     "output_type": "stream",
     "text": [
      "10.044726980390072\n",
      "31.960641577583765\n",
      "12.037803012245378\n",
      "8.704018596751117\n",
      "31.570031649006864\n",
      "[31.42083241+0.j          0.26990458+0.49682511j  0.26990458-0.49682511j]\n",
      "\n",
      " [[-0.03406951  1.79547374 -1.73453749]\n",
      " [-0.67648443  0.47520179  0.20187409]\n",
      " [ 0.60587496 -1.82378054  1.27926659]]\n"
     ]
    }
   ],
   "source": [
    "get_stats(M)"
   ]
  },
  {
   "cell_type": "markdown",
   "metadata": {},
   "source": [
    "**5. (0.2 балла)** Повторите 100 раз следующий эксперимент: сгенерируйте две матрицы размера 10×10 из стандартного нормального распределения, перемножьте их (как матрицы) и найдите максимальный элемент. Какое среднее значение по экспериментам у максимальных элементов? 95-процентная квантиль?"
   ]
  },
  {
   "cell_type": "code",
   "execution_count": 17,
   "metadata": {},
   "outputs": [
    {
     "name": "stdout",
     "output_type": "stream",
     "text": [
      "8.579573015596527\n",
      "12.809807240099962\n"
     ]
    }
   ],
   "source": [
    "max_vals = np.array([])\n",
    "for exp_num in range(100):\n",
    "    X = np.array([np.random.normal(0, 1, 10) for i in range(10)])\n",
    "    Y = np.array([np.random.normal(0, 1, 10) for i in range(10)])\n",
    "    max_vals = np.append(max_vals, [np.dot(X, Y).max()])\n",
    "print(max_vals.mean())\n",
    "print(np.percentile(max_vals, 95))"
   ]
  },
  {
   "cell_type": "markdown",
   "metadata": {},
   "source": [
    "### Pandas\n",
    "\n",
    "![](https://metrouk2.files.wordpress.com/2015/10/panda.jpg)\n",
    "\n",
    "#### Ответьте на вопросы о данных по авиарейсам в США за январь-апрель 2008 года.\n",
    "\n",
    "Данные находятся в приложенном файле `2008.csv`. Их [описание](http://stat-computing.org/dataexpo/2009/the-data.html) приведено ниже:"
   ]
  },
  {
   "cell_type": "markdown",
   "metadata": {},
   "source": [
    "Airline on-time performance\n",
    "\n",
    "Have you ever been stuck in an airport because your flight was delayed or cancelled and wondered if you could have predicted it if you'd had more data? This is your chance to find out.\n",
    "\n",
    "The data\n",
    "The data set is available for download here.\n",
    "The data consists of flight arrival and departure details for all commercial flights within the USA, from October 1987 to April 2008. This is a large dataset: there are nearly 120 million records in total, and takes up 1.6 gigabytes of space compressed and 12 gigabytes when uncompressed.\n",
    "\n",
    "Understanding and preparing the data\n",
    "In order to answer above questions, we are going to analyze the provided dataset, containing up to 1936758 ### different internal flights in the US for 2008 and their causes for delay, diversion and cancellation\n",
    "\n",
    "The data comes from the U.S. Department of Transportation’s (DOT) Bureau of Transportation Statistics (BTS). Meta data explanations\n",
    "\n",
    "This dataset is composed by the following variables:\n",
    "\n",
    "**Year** 2008 **Month** 1-12 **DayofMonth** 1-31 **DayOfWeek** 1 (Monday) - 7 (Sunday)  \n",
    "**DepTime** actual departure time (local, hhmm)  \n",
    "**CRSDepTime** scheduled departure time (local, hhmm)  \n",
    "**ArrTime** actual arrival time (local, hhmm)  \n",
    "**CRSArrTime** scheduled arrival time (local, hhmm)  \n",
    "**UniqueCarrier** unique carrier code  \n",
    "**FlightNum** flight number  \n",
    "**TailNum** plane tail number: aircraft registration, unique aircraft identifier  \n",
    "**ActualElapsedTime** in minutes  \n",
    "**CRSElapsedTime** in minutes  \n",
    "**AirTime** in minutes  \n",
    "**ArrDelay** arrival delay, in minutes: A flight is counted as “on time” if it operated less than 15 minutes later the scheduled time shown in the carriers’ Computerized Reservations Systems (CRS).  \n",
    "**DepDelay** departure delay, in minutes  \n",
    "**Origin** origin IATA airport code  \n",
    "**Dest** destination IATA airport code  \n",
    "**Distance** in miles  \n",
    "**TaxiIn** taxi in time, in minutes  \n",
    "**TaxiOut** taxi out time in minutes  \n",
    "**Cancelled** *was the flight cancelled  \n",
    "**CancellationCode** reason for cancellation (A = carrier, B = weather, C = NAS, D = security)  \n",
    "**Diverted** 1 = yes, 0 = no  \n",
    "**CarrierDelay** in minutes: Carrier delay is within the control of the air carrier. Examples of occurrences that may determine carrier delay are: aircraft cleaning, aircraft damage, awaiting the arrival of connecting passengers or crew, baggage, bird strike, cargo loading, catering, computer, outage-carrier equipment, crew legality (pilot or attendant rest), damage by hazardous goods, engineering inspection, fueling, handling disabled passengers, late crew, lavatory servicing, maintenance, oversales, potable water servicing, removal of unruly passenger, slow boarding or seating, stowing carry-on baggage, weight and balance delays.  \n",
    "**WeatherDelay** in minutes: Weather delay is caused by extreme or hazardous weather conditions that are forecasted or manifest themselves on point of departure, enroute, or on point of arrival.  \n",
    "**NASDelay** in minutes: Delay that is within the control of the National Airspace System (NAS) may include: non-extreme weather conditions, airport operations, heavy traffic volume, air traffic control, etc.  \n",
    "**SecurityDelay** in minutes: Security delay is caused by evacuation of a terminal or concourse, re-boarding of aircraft because of security breach, inoperative screening equipment and/or long lines in excess of 29 minutes at screening areas.  \n",
    "**LateAircraftDelay** in minutes: Arrival delay at an airport due to the late arrival of the same aircraft at a previous airport. The ripple effect of an earlier delay at downstream airports is referred to as delay propagation."
   ]
  },
  {
   "cell_type": "code",
   "execution_count": 21,
   "metadata": {},
   "outputs": [
    {
     "name": "stdout",
     "output_type": "stream",
     "text": [
      "Collecting matplotlib\n",
      "  Obtaining dependency information for matplotlib from https://files.pythonhosted.org/packages/33/ee/e87d7a79a32f5ac833655ef29ebd37c7b389e8957bc71aacb10a95f822b9/matplotlib-3.8.0-cp311-cp311-macosx_10_12_x86_64.whl.metadata\n",
      "  Downloading matplotlib-3.8.0-cp311-cp311-macosx_10_12_x86_64.whl.metadata (5.8 kB)\n",
      "Collecting contourpy>=1.0.1 (from matplotlib)\n",
      "  Obtaining dependency information for contourpy>=1.0.1 from https://files.pythonhosted.org/packages/8b/4f/be28a39cd5e988b8d3c2cc642c2c7ffeeb28fe80a86df71b6d1e473c5038/contourpy-1.1.1-cp311-cp311-macosx_10_9_x86_64.whl.metadata\n",
      "  Downloading contourpy-1.1.1-cp311-cp311-macosx_10_9_x86_64.whl.metadata (5.9 kB)\n",
      "Collecting cycler>=0.10 (from matplotlib)\n",
      "  Obtaining dependency information for cycler>=0.10 from https://files.pythonhosted.org/packages/e7/05/c19819d5e3d95294a6f5947fb9b9629efb316b96de511b418c53d245aae6/cycler-0.12.1-py3-none-any.whl.metadata\n",
      "  Downloading cycler-0.12.1-py3-none-any.whl.metadata (3.8 kB)\n",
      "Collecting fonttools>=4.22.0 (from matplotlib)\n",
      "  Obtaining dependency information for fonttools>=4.22.0 from https://files.pythonhosted.org/packages/89/17/a8c8e905a618302f4bd702a9a91910a36edd5b0ece7dd63e2e6c23641d76/fonttools-4.43.1-cp311-cp311-macosx_10_9_x86_64.whl.metadata\n",
      "  Downloading fonttools-4.43.1-cp311-cp311-macosx_10_9_x86_64.whl.metadata (152 kB)\n",
      "\u001b[2K     \u001b[90m━━━━━━━━━━━━━━━━━━━━━━━━━━━━━━━━━━━━━━━\u001b[0m \u001b[32m152.4/152.4 kB\u001b[0m \u001b[31m1.8 MB/s\u001b[0m eta \u001b[36m0:00:00\u001b[0ma \u001b[36m0:00:01\u001b[0m\n",
      "\u001b[?25hCollecting kiwisolver>=1.0.1 (from matplotlib)\n",
      "  Obtaining dependency information for kiwisolver>=1.0.1 from https://files.pythonhosted.org/packages/a6/94/695922e71288855fc7cace3bdb52edda9d7e50edba77abb0c9d7abb51e96/kiwisolver-1.4.5-cp311-cp311-macosx_10_9_x86_64.whl.metadata\n",
      "  Downloading kiwisolver-1.4.5-cp311-cp311-macosx_10_9_x86_64.whl.metadata (6.4 kB)\n",
      "Requirement already satisfied: numpy<2,>=1.21 in /usr/local/lib/python3.11/site-packages (from matplotlib) (1.26.0)\n",
      "Requirement already satisfied: packaging>=20.0 in /usr/local/lib/python3.11/site-packages (from matplotlib) (23.2)\n",
      "Collecting pillow>=6.2.0 (from matplotlib)\n",
      "  Obtaining dependency information for pillow>=6.2.0 from https://files.pythonhosted.org/packages/6e/f6/fbae883f0a33b0ba2d6a5008515735371f103077afc551c0005d0bd3264b/Pillow-10.0.1-cp311-cp311-macosx_10_10_x86_64.whl.metadata\n",
      "  Downloading Pillow-10.0.1-cp311-cp311-macosx_10_10_x86_64.whl.metadata (9.5 kB)\n",
      "Collecting pyparsing>=2.3.1 (from matplotlib)\n",
      "  Obtaining dependency information for pyparsing>=2.3.1 from https://files.pythonhosted.org/packages/39/92/8486ede85fcc088f1b3dba4ce92dd29d126fd96b0008ea213167940a2475/pyparsing-3.1.1-py3-none-any.whl.metadata\n",
      "  Downloading pyparsing-3.1.1-py3-none-any.whl.metadata (5.1 kB)\n",
      "Requirement already satisfied: python-dateutil>=2.7 in /usr/local/lib/python3.11/site-packages (from matplotlib) (2.8.2)\n",
      "Requirement already satisfied: six>=1.5 in /usr/local/lib/python3.11/site-packages (from python-dateutil>=2.7->matplotlib) (1.16.0)\n",
      "Downloading matplotlib-3.8.0-cp311-cp311-macosx_10_12_x86_64.whl (7.6 MB)\n",
      "\u001b[2K   \u001b[90m━━━━━━━━━━━━━━━━━━━━━━━━━━━━━━━━━━━━━━━━\u001b[0m \u001b[32m7.6/7.6 MB\u001b[0m \u001b[31m7.4 MB/s\u001b[0m eta \u001b[36m0:00:00\u001b[0m00:01\u001b[0m00:01\u001b[0m\n",
      "\u001b[?25hDownloading contourpy-1.1.1-cp311-cp311-macosx_10_9_x86_64.whl (248 kB)\n",
      "\u001b[2K   \u001b[90m━━━━━━━━━━━━━━━━━━━━━━━━━━━━━━━━━━━━━━━━\u001b[0m \u001b[32m248.6/248.6 kB\u001b[0m \u001b[31m6.7 MB/s\u001b[0m eta \u001b[36m0:00:00\u001b[0m\n",
      "\u001b[?25hDownloading cycler-0.12.1-py3-none-any.whl (8.3 kB)\n",
      "Downloading fonttools-4.43.1-cp311-cp311-macosx_10_9_x86_64.whl (2.2 MB)\n",
      "\u001b[2K   \u001b[90m━━━━━━━━━━━━━━━━━━━━━━━━━━━━━━━━━━━━━━━━\u001b[0m \u001b[32m2.2/2.2 MB\u001b[0m \u001b[31m6.0 MB/s\u001b[0m eta \u001b[36m0:00:00\u001b[0m00:01\u001b[0m00:01\u001b[0m\n",
      "\u001b[?25hDownloading kiwisolver-1.4.5-cp311-cp311-macosx_10_9_x86_64.whl (68 kB)\n",
      "\u001b[2K   \u001b[90m━━━━━━━━━━━━━━━━━━━━━━━━━━━━━━━━━━━━━━━━\u001b[0m \u001b[32m68.2/68.2 kB\u001b[0m \u001b[31m2.1 MB/s\u001b[0m eta \u001b[36m0:00:00\u001b[0m\n",
      "\u001b[?25hDownloading Pillow-10.0.1-cp311-cp311-macosx_10_10_x86_64.whl (3.7 MB)\n",
      "\u001b[2K   \u001b[90m━━━━━━━━━━━━━━━━━━━━━━━━━━━━━━━━━━━━━━━━\u001b[0m \u001b[32m3.7/3.7 MB\u001b[0m \u001b[31m5.7 MB/s\u001b[0m eta \u001b[36m0:00:00\u001b[0m00:01\u001b[0m00:01\u001b[0mm\n",
      "\u001b[?25hDownloading pyparsing-3.1.1-py3-none-any.whl (103 kB)\n",
      "\u001b[2K   \u001b[90m━━━━━━━━━━━━━━━━━━━━━━━━━━━━━━━━━━━━━━━━\u001b[0m \u001b[32m103.1/103.1 kB\u001b[0m \u001b[31m3.0 MB/s\u001b[0m eta \u001b[36m0:00:00\u001b[0m\n",
      "\u001b[?25hInstalling collected packages: pyparsing, pillow, kiwisolver, fonttools, cycler, contourpy, matplotlib\n",
      "Successfully installed contourpy-1.1.1 cycler-0.12.1 fonttools-4.43.1 kiwisolver-1.4.5 matplotlib-3.8.0 pillow-10.0.1 pyparsing-3.1.1\n"
     ]
    }
   ],
   "source": [
    "!pip install matplotlib"
   ]
  },
  {
   "cell_type": "code",
   "execution_count": 22,
   "metadata": {},
   "outputs": [],
   "source": [
    "import pandas as pd\n",
    "%matplotlib inline"
   ]
  },
  {
   "cell_type": "code",
   "execution_count": 23,
   "metadata": {},
   "outputs": [
    {
     "data": {
      "text/html": [
       "<div>\n",
       "<style scoped>\n",
       "    .dataframe tbody tr th:only-of-type {\n",
       "        vertical-align: middle;\n",
       "    }\n",
       "\n",
       "    .dataframe tbody tr th {\n",
       "        vertical-align: top;\n",
       "    }\n",
       "\n",
       "    .dataframe thead th {\n",
       "        text-align: right;\n",
       "    }\n",
       "</style>\n",
       "<table border=\"1\" class=\"dataframe\">\n",
       "  <thead>\n",
       "    <tr style=\"text-align: right;\">\n",
       "      <th></th>\n",
       "      <th>Year</th>\n",
       "      <th>Month</th>\n",
       "      <th>DayofMonth</th>\n",
       "      <th>DayOfWeek</th>\n",
       "      <th>DepTime</th>\n",
       "      <th>CRSDepTime</th>\n",
       "      <th>ArrTime</th>\n",
       "      <th>CRSArrTime</th>\n",
       "      <th>UniqueCarrier</th>\n",
       "      <th>FlightNum</th>\n",
       "      <th>...</th>\n",
       "      <th>TaxiIn</th>\n",
       "      <th>TaxiOut</th>\n",
       "      <th>Cancelled</th>\n",
       "      <th>CancellationCode</th>\n",
       "      <th>Diverted</th>\n",
       "      <th>CarrierDelay</th>\n",
       "      <th>WeatherDelay</th>\n",
       "      <th>NASDelay</th>\n",
       "      <th>SecurityDelay</th>\n",
       "      <th>LateAircraftDelay</th>\n",
       "    </tr>\n",
       "  </thead>\n",
       "  <tbody>\n",
       "    <tr>\n",
       "      <th>0</th>\n",
       "      <td>2008</td>\n",
       "      <td>6</td>\n",
       "      <td>18</td>\n",
       "      <td>3</td>\n",
       "      <td>2111.0</td>\n",
       "      <td>2055</td>\n",
       "      <td>2308.0</td>\n",
       "      <td>2300</td>\n",
       "      <td>WN</td>\n",
       "      <td>242</td>\n",
       "      <td>...</td>\n",
       "      <td>3.0</td>\n",
       "      <td>8.0</td>\n",
       "      <td>0</td>\n",
       "      <td>NaN</td>\n",
       "      <td>0</td>\n",
       "      <td>NaN</td>\n",
       "      <td>NaN</td>\n",
       "      <td>NaN</td>\n",
       "      <td>NaN</td>\n",
       "      <td>NaN</td>\n",
       "    </tr>\n",
       "    <tr>\n",
       "      <th>1</th>\n",
       "      <td>2008</td>\n",
       "      <td>6</td>\n",
       "      <td>4</td>\n",
       "      <td>3</td>\n",
       "      <td>1426.0</td>\n",
       "      <td>1410</td>\n",
       "      <td>1730.0</td>\n",
       "      <td>1728</td>\n",
       "      <td>XE</td>\n",
       "      <td>2380</td>\n",
       "      <td>...</td>\n",
       "      <td>4.0</td>\n",
       "      <td>12.0</td>\n",
       "      <td>0</td>\n",
       "      <td>NaN</td>\n",
       "      <td>0</td>\n",
       "      <td>NaN</td>\n",
       "      <td>NaN</td>\n",
       "      <td>NaN</td>\n",
       "      <td>NaN</td>\n",
       "      <td>NaN</td>\n",
       "    </tr>\n",
       "    <tr>\n",
       "      <th>2</th>\n",
       "      <td>2008</td>\n",
       "      <td>8</td>\n",
       "      <td>3</td>\n",
       "      <td>7</td>\n",
       "      <td>1143.0</td>\n",
       "      <td>1145</td>\n",
       "      <td>1501.0</td>\n",
       "      <td>1520</td>\n",
       "      <td>WN</td>\n",
       "      <td>1769</td>\n",
       "      <td>...</td>\n",
       "      <td>4.0</td>\n",
       "      <td>9.0</td>\n",
       "      <td>0</td>\n",
       "      <td>NaN</td>\n",
       "      <td>0</td>\n",
       "      <td>NaN</td>\n",
       "      <td>NaN</td>\n",
       "      <td>NaN</td>\n",
       "      <td>NaN</td>\n",
       "      <td>NaN</td>\n",
       "    </tr>\n",
       "    <tr>\n",
       "      <th>3</th>\n",
       "      <td>2008</td>\n",
       "      <td>1</td>\n",
       "      <td>23</td>\n",
       "      <td>3</td>\n",
       "      <td>1141.0</td>\n",
       "      <td>1144</td>\n",
       "      <td>1323.0</td>\n",
       "      <td>1335</td>\n",
       "      <td>OO</td>\n",
       "      <td>3802</td>\n",
       "      <td>...</td>\n",
       "      <td>4.0</td>\n",
       "      <td>19.0</td>\n",
       "      <td>0</td>\n",
       "      <td>NaN</td>\n",
       "      <td>0</td>\n",
       "      <td>NaN</td>\n",
       "      <td>NaN</td>\n",
       "      <td>NaN</td>\n",
       "      <td>NaN</td>\n",
       "      <td>NaN</td>\n",
       "    </tr>\n",
       "    <tr>\n",
       "      <th>4</th>\n",
       "      <td>2008</td>\n",
       "      <td>5</td>\n",
       "      <td>4</td>\n",
       "      <td>7</td>\n",
       "      <td>815.0</td>\n",
       "      <td>820</td>\n",
       "      <td>1243.0</td>\n",
       "      <td>1300</td>\n",
       "      <td>WN</td>\n",
       "      <td>399</td>\n",
       "      <td>...</td>\n",
       "      <td>4.0</td>\n",
       "      <td>8.0</td>\n",
       "      <td>0</td>\n",
       "      <td>NaN</td>\n",
       "      <td>0</td>\n",
       "      <td>NaN</td>\n",
       "      <td>NaN</td>\n",
       "      <td>NaN</td>\n",
       "      <td>NaN</td>\n",
       "      <td>NaN</td>\n",
       "    </tr>\n",
       "    <tr>\n",
       "      <th>...</th>\n",
       "      <td>...</td>\n",
       "      <td>...</td>\n",
       "      <td>...</td>\n",
       "      <td>...</td>\n",
       "      <td>...</td>\n",
       "      <td>...</td>\n",
       "      <td>...</td>\n",
       "      <td>...</td>\n",
       "      <td>...</td>\n",
       "      <td>...</td>\n",
       "      <td>...</td>\n",
       "      <td>...</td>\n",
       "      <td>...</td>\n",
       "      <td>...</td>\n",
       "      <td>...</td>\n",
       "      <td>...</td>\n",
       "      <td>...</td>\n",
       "      <td>...</td>\n",
       "      <td>...</td>\n",
       "      <td>...</td>\n",
       "      <td>...</td>\n",
       "    </tr>\n",
       "    <tr>\n",
       "      <th>69995</th>\n",
       "      <td>2008</td>\n",
       "      <td>5</td>\n",
       "      <td>12</td>\n",
       "      <td>1</td>\n",
       "      <td>1829.0</td>\n",
       "      <td>1840</td>\n",
       "      <td>2137.0</td>\n",
       "      <td>2149</td>\n",
       "      <td>DL</td>\n",
       "      <td>794</td>\n",
       "      <td>...</td>\n",
       "      <td>22.0</td>\n",
       "      <td>20.0</td>\n",
       "      <td>0</td>\n",
       "      <td>NaN</td>\n",
       "      <td>0</td>\n",
       "      <td>NaN</td>\n",
       "      <td>NaN</td>\n",
       "      <td>NaN</td>\n",
       "      <td>NaN</td>\n",
       "      <td>NaN</td>\n",
       "    </tr>\n",
       "    <tr>\n",
       "      <th>69996</th>\n",
       "      <td>2008</td>\n",
       "      <td>5</td>\n",
       "      <td>11</td>\n",
       "      <td>7</td>\n",
       "      <td>1149.0</td>\n",
       "      <td>1125</td>\n",
       "      <td>1336.0</td>\n",
       "      <td>1314</td>\n",
       "      <td>OO</td>\n",
       "      <td>6159</td>\n",
       "      <td>...</td>\n",
       "      <td>4.0</td>\n",
       "      <td>13.0</td>\n",
       "      <td>0</td>\n",
       "      <td>NaN</td>\n",
       "      <td>0</td>\n",
       "      <td>0.0</td>\n",
       "      <td>0.0</td>\n",
       "      <td>0.0</td>\n",
       "      <td>0.0</td>\n",
       "      <td>22.0</td>\n",
       "    </tr>\n",
       "    <tr>\n",
       "      <th>69997</th>\n",
       "      <td>2008</td>\n",
       "      <td>9</td>\n",
       "      <td>24</td>\n",
       "      <td>3</td>\n",
       "      <td>1012.0</td>\n",
       "      <td>1012</td>\n",
       "      <td>1132.0</td>\n",
       "      <td>1132</td>\n",
       "      <td>YV</td>\n",
       "      <td>7058</td>\n",
       "      <td>...</td>\n",
       "      <td>7.0</td>\n",
       "      <td>10.0</td>\n",
       "      <td>0</td>\n",
       "      <td>NaN</td>\n",
       "      <td>0</td>\n",
       "      <td>NaN</td>\n",
       "      <td>NaN</td>\n",
       "      <td>NaN</td>\n",
       "      <td>NaN</td>\n",
       "      <td>NaN</td>\n",
       "    </tr>\n",
       "    <tr>\n",
       "      <th>69998</th>\n",
       "      <td>2008</td>\n",
       "      <td>2</td>\n",
       "      <td>18</td>\n",
       "      <td>1</td>\n",
       "      <td>1906.0</td>\n",
       "      <td>1900</td>\n",
       "      <td>2200.0</td>\n",
       "      <td>2139</td>\n",
       "      <td>NW</td>\n",
       "      <td>641</td>\n",
       "      <td>...</td>\n",
       "      <td>20.0</td>\n",
       "      <td>22.0</td>\n",
       "      <td>0</td>\n",
       "      <td>NaN</td>\n",
       "      <td>0</td>\n",
       "      <td>0.0</td>\n",
       "      <td>0.0</td>\n",
       "      <td>15.0</td>\n",
       "      <td>0.0</td>\n",
       "      <td>6.0</td>\n",
       "    </tr>\n",
       "    <tr>\n",
       "      <th>69999</th>\n",
       "      <td>2008</td>\n",
       "      <td>12</td>\n",
       "      <td>6</td>\n",
       "      <td>6</td>\n",
       "      <td>859.0</td>\n",
       "      <td>900</td>\n",
       "      <td>959.0</td>\n",
       "      <td>1005</td>\n",
       "      <td>WN</td>\n",
       "      <td>510</td>\n",
       "      <td>...</td>\n",
       "      <td>2.0</td>\n",
       "      <td>12.0</td>\n",
       "      <td>0</td>\n",
       "      <td>NaN</td>\n",
       "      <td>0</td>\n",
       "      <td>NaN</td>\n",
       "      <td>NaN</td>\n",
       "      <td>NaN</td>\n",
       "      <td>NaN</td>\n",
       "      <td>NaN</td>\n",
       "    </tr>\n",
       "  </tbody>\n",
       "</table>\n",
       "<p>70000 rows × 29 columns</p>\n",
       "</div>"
      ],
      "text/plain": [
       "       Year  Month  DayofMonth  DayOfWeek  DepTime  CRSDepTime  ArrTime  \\\n",
       "0      2008      6          18          3   2111.0        2055   2308.0   \n",
       "1      2008      6           4          3   1426.0        1410   1730.0   \n",
       "2      2008      8           3          7   1143.0        1145   1501.0   \n",
       "3      2008      1          23          3   1141.0        1144   1323.0   \n",
       "4      2008      5           4          7    815.0         820   1243.0   \n",
       "...     ...    ...         ...        ...      ...         ...      ...   \n",
       "69995  2008      5          12          1   1829.0        1840   2137.0   \n",
       "69996  2008      5          11          7   1149.0        1125   1336.0   \n",
       "69997  2008      9          24          3   1012.0        1012   1132.0   \n",
       "69998  2008      2          18          1   1906.0        1900   2200.0   \n",
       "69999  2008     12           6          6    859.0         900    959.0   \n",
       "\n",
       "       CRSArrTime UniqueCarrier  FlightNum  ... TaxiIn  TaxiOut  Cancelled  \\\n",
       "0            2300            WN        242  ...    3.0      8.0          0   \n",
       "1            1728            XE       2380  ...    4.0     12.0          0   \n",
       "2            1520            WN       1769  ...    4.0      9.0          0   \n",
       "3            1335            OO       3802  ...    4.0     19.0          0   \n",
       "4            1300            WN        399  ...    4.0      8.0          0   \n",
       "...           ...           ...        ...  ...    ...      ...        ...   \n",
       "69995        2149            DL        794  ...   22.0     20.0          0   \n",
       "69996        1314            OO       6159  ...    4.0     13.0          0   \n",
       "69997        1132            YV       7058  ...    7.0     10.0          0   \n",
       "69998        2139            NW        641  ...   20.0     22.0          0   \n",
       "69999        1005            WN        510  ...    2.0     12.0          0   \n",
       "\n",
       "       CancellationCode  Diverted  CarrierDelay WeatherDelay NASDelay  \\\n",
       "0                   NaN         0           NaN          NaN      NaN   \n",
       "1                   NaN         0           NaN          NaN      NaN   \n",
       "2                   NaN         0           NaN          NaN      NaN   \n",
       "3                   NaN         0           NaN          NaN      NaN   \n",
       "4                   NaN         0           NaN          NaN      NaN   \n",
       "...                 ...       ...           ...          ...      ...   \n",
       "69995               NaN         0           NaN          NaN      NaN   \n",
       "69996               NaN         0           0.0          0.0      0.0   \n",
       "69997               NaN         0           NaN          NaN      NaN   \n",
       "69998               NaN         0           0.0          0.0     15.0   \n",
       "69999               NaN         0           NaN          NaN      NaN   \n",
       "\n",
       "       SecurityDelay  LateAircraftDelay  \n",
       "0                NaN                NaN  \n",
       "1                NaN                NaN  \n",
       "2                NaN                NaN  \n",
       "3                NaN                NaN  \n",
       "4                NaN                NaN  \n",
       "...              ...                ...  \n",
       "69995            NaN                NaN  \n",
       "69996            0.0               22.0  \n",
       "69997            NaN                NaN  \n",
       "69998            0.0                6.0  \n",
       "69999            NaN                NaN  \n",
       "\n",
       "[70000 rows x 29 columns]"
      ]
     },
     "execution_count": 23,
     "metadata": {},
     "output_type": "execute_result"
    }
   ],
   "source": [
    "data = pd.read_csv('2008.csv')\n",
    "data"
   ]
  },
  {
   "cell_type": "markdown",
   "metadata": {},
   "source": [
    "**6. (0.3 балла)** Какая из причин отмены рейса (`CancellationCode`) была самой частой? (расшифровки кодов можно найти в описании данных)"
   ]
  },
  {
   "cell_type": "code",
   "execution_count": 26,
   "metadata": {},
   "outputs": [
    {
     "data": {
      "text/plain": [
       "0    A\n",
       "Name: CancellationCode, dtype: object"
      ]
     },
     "execution_count": 26,
     "metadata": {},
     "output_type": "execute_result"
    }
   ],
   "source": [
    "cancel = data['CancellationCode'].mode()\n",
    "cancel"
   ]
  },
  {
   "cell_type": "markdown",
   "metadata": {},
   "source": [
    "**7. (0.3 балла)** Найдите среднее, минимальное и максимальное расстояние, пройденное самолетом."
   ]
  },
  {
   "cell_type": "code",
   "execution_count": 29,
   "metadata": {},
   "outputs": [
    {
     "name": "stdout",
     "output_type": "stream",
     "text": [
      "724.5082571428571\n",
      "31\n",
      "4962\n"
     ]
    }
   ],
   "source": [
    "distance = data['Distance']\n",
    "print(distance.mean())\n",
    "print(distance.min())\n",
    "print(distance.max())"
   ]
  },
  {
   "cell_type": "markdown",
   "metadata": {},
   "source": [
    "**8. (0.3 балла)** Не выглядит ли подозрительным минимальное пройденное расстояние? В какие дни и на каких рейсах оно было? Какое расстояние было пройдено этими же рейсами в другие дни?"
   ]
  },
  {
   "cell_type": "code",
   "execution_count": 30,
   "metadata": {},
   "outputs": [
    {
     "data": {
      "text/html": [
       "<div>\n",
       "<style scoped>\n",
       "    .dataframe tbody tr th:only-of-type {\n",
       "        vertical-align: middle;\n",
       "    }\n",
       "\n",
       "    .dataframe tbody tr th {\n",
       "        vertical-align: top;\n",
       "    }\n",
       "\n",
       "    .dataframe thead th {\n",
       "        text-align: right;\n",
       "    }\n",
       "</style>\n",
       "<table border=\"1\" class=\"dataframe\">\n",
       "  <thead>\n",
       "    <tr style=\"text-align: right;\">\n",
       "      <th></th>\n",
       "      <th>FlightNum</th>\n",
       "      <th>Distance</th>\n",
       "      <th>Year</th>\n",
       "      <th>Month</th>\n",
       "      <th>DayofMonth</th>\n",
       "    </tr>\n",
       "  </thead>\n",
       "  <tbody>\n",
       "    <tr>\n",
       "      <th>1116</th>\n",
       "      <td>65</td>\n",
       "      <td>31</td>\n",
       "      <td>2008</td>\n",
       "      <td>12</td>\n",
       "      <td>30</td>\n",
       "    </tr>\n",
       "    <tr>\n",
       "      <th>6958</th>\n",
       "      <td>65</td>\n",
       "      <td>31</td>\n",
       "      <td>2008</td>\n",
       "      <td>12</td>\n",
       "      <td>26</td>\n",
       "    </tr>\n",
       "    <tr>\n",
       "      <th>17349</th>\n",
       "      <td>64</td>\n",
       "      <td>31</td>\n",
       "      <td>2008</td>\n",
       "      <td>8</td>\n",
       "      <td>18</td>\n",
       "    </tr>\n",
       "    <tr>\n",
       "      <th>27534</th>\n",
       "      <td>64</td>\n",
       "      <td>31</td>\n",
       "      <td>2008</td>\n",
       "      <td>3</td>\n",
       "      <td>11</td>\n",
       "    </tr>\n",
       "    <tr>\n",
       "      <th>46082</th>\n",
       "      <td>65</td>\n",
       "      <td>31</td>\n",
       "      <td>2008</td>\n",
       "      <td>8</td>\n",
       "      <td>9</td>\n",
       "    </tr>\n",
       "    <tr>\n",
       "      <th>48112</th>\n",
       "      <td>64</td>\n",
       "      <td>31</td>\n",
       "      <td>2008</td>\n",
       "      <td>2</td>\n",
       "      <td>28</td>\n",
       "    </tr>\n",
       "  </tbody>\n",
       "</table>\n",
       "</div>"
      ],
      "text/plain": [
       "       FlightNum  Distance  Year  Month  DayofMonth\n",
       "1116          65        31  2008     12          30\n",
       "6958          65        31  2008     12          26\n",
       "17349         64        31  2008      8          18\n",
       "27534         64        31  2008      3          11\n",
       "46082         65        31  2008      8           9\n",
       "48112         64        31  2008      2          28"
      ]
     },
     "execution_count": 30,
     "metadata": {},
     "output_type": "execute_result"
    }
   ],
   "source": [
    "data.loc[data['Distance'] == 31, ['FlightNum', 'Distance', 'Year', 'Month', 'DayofMonth']]"
   ]
  },
  {
   "cell_type": "code",
   "execution_count": 31,
   "metadata": {},
   "outputs": [
    {
     "data": {
      "text/html": [
       "<div>\n",
       "<style scoped>\n",
       "    .dataframe tbody tr th:only-of-type {\n",
       "        vertical-align: middle;\n",
       "    }\n",
       "\n",
       "    .dataframe tbody tr th {\n",
       "        vertical-align: top;\n",
       "    }\n",
       "\n",
       "    .dataframe thead th {\n",
       "        text-align: right;\n",
       "    }\n",
       "</style>\n",
       "<table border=\"1\" class=\"dataframe\">\n",
       "  <thead>\n",
       "    <tr style=\"text-align: right;\">\n",
       "      <th></th>\n",
       "      <th>Distance</th>\n",
       "      <th>FlightNum</th>\n",
       "    </tr>\n",
       "  </thead>\n",
       "  <tbody>\n",
       "    <tr>\n",
       "      <th>501</th>\n",
       "      <td>533</td>\n",
       "      <td>64</td>\n",
       "    </tr>\n",
       "    <tr>\n",
       "      <th>1116</th>\n",
       "      <td>31</td>\n",
       "      <td>65</td>\n",
       "    </tr>\n",
       "    <tr>\n",
       "      <th>1389</th>\n",
       "      <td>680</td>\n",
       "      <td>64</td>\n",
       "    </tr>\n",
       "    <tr>\n",
       "      <th>1517</th>\n",
       "      <td>680</td>\n",
       "      <td>65</td>\n",
       "    </tr>\n",
       "    <tr>\n",
       "      <th>2619</th>\n",
       "      <td>2381</td>\n",
       "      <td>64</td>\n",
       "    </tr>\n",
       "    <tr>\n",
       "      <th>...</th>\n",
       "      <td>...</td>\n",
       "      <td>...</td>\n",
       "    </tr>\n",
       "    <tr>\n",
       "      <th>66529</th>\n",
       "      <td>82</td>\n",
       "      <td>65</td>\n",
       "    </tr>\n",
       "    <tr>\n",
       "      <th>67172</th>\n",
       "      <td>533</td>\n",
       "      <td>64</td>\n",
       "    </tr>\n",
       "    <tr>\n",
       "      <th>68264</th>\n",
       "      <td>386</td>\n",
       "      <td>65</td>\n",
       "    </tr>\n",
       "    <tr>\n",
       "      <th>68338</th>\n",
       "      <td>2454</td>\n",
       "      <td>65</td>\n",
       "    </tr>\n",
       "    <tr>\n",
       "      <th>69305</th>\n",
       "      <td>1005</td>\n",
       "      <td>65</td>\n",
       "    </tr>\n",
       "  </tbody>\n",
       "</table>\n",
       "<p>78 rows × 2 columns</p>\n",
       "</div>"
      ],
      "text/plain": [
       "       Distance  FlightNum\n",
       "501         533         64\n",
       "1116         31         65\n",
       "1389        680         64\n",
       "1517        680         65\n",
       "2619       2381         64\n",
       "...         ...        ...\n",
       "66529        82         65\n",
       "67172       533         64\n",
       "68264       386         65\n",
       "68338      2454         65\n",
       "69305      1005         65\n",
       "\n",
       "[78 rows x 2 columns]"
      ]
     },
     "execution_count": 31,
     "metadata": {},
     "output_type": "execute_result"
    }
   ],
   "source": [
    "data.loc[(data['FlightNum'] == 64) | (data['FlightNum'] == 65)][['Distance', 'FlightNum']]\n"
   ]
  },
  {
   "cell_type": "markdown",
   "metadata": {},
   "source": [
    "**9. (0.3 балла)** Из какого аэропорта было произведено больше всего вылетов? В каком городе он находится?"
   ]
  },
  {
   "cell_type": "code",
   "execution_count": 32,
   "metadata": {},
   "outputs": [
    {
     "data": {
      "text/plain": [
       "'ATL'"
      ]
     },
     "execution_count": 32,
     "metadata": {},
     "output_type": "execute_result"
    }
   ],
   "source": [
    "data['Origin'].value_counts().idxmax()"
   ]
  },
  {
   "cell_type": "markdown",
   "metadata": {},
   "source": [
    "**10. (0.3 балла)** Найдите для каждого аэропорта среднее время полета (`AirTime`) по всем вылетевшим из него рейсам. Какой аэропорт имеет наибольшее значение этого показателя?"
   ]
  },
  {
   "cell_type": "code",
   "execution_count": 34,
   "metadata": {},
   "outputs": [
    {
     "data": {
      "text/html": [
       "<div>\n",
       "<style scoped>\n",
       "    .dataframe tbody tr th:only-of-type {\n",
       "        vertical-align: middle;\n",
       "    }\n",
       "\n",
       "    .dataframe tbody tr th {\n",
       "        vertical-align: top;\n",
       "    }\n",
       "\n",
       "    .dataframe thead th {\n",
       "        text-align: right;\n",
       "    }\n",
       "</style>\n",
       "<table border=\"1\" class=\"dataframe\">\n",
       "  <thead>\n",
       "    <tr style=\"text-align: right;\">\n",
       "      <th></th>\n",
       "      <th>AirTime</th>\n",
       "    </tr>\n",
       "    <tr>\n",
       "      <th>Origin</th>\n",
       "      <th></th>\n",
       "    </tr>\n",
       "  </thead>\n",
       "  <tbody>\n",
       "    <tr>\n",
       "      <th>ABE</th>\n",
       "      <td>88.266667</td>\n",
       "    </tr>\n",
       "    <tr>\n",
       "      <th>ABI</th>\n",
       "      <td>36.400000</td>\n",
       "    </tr>\n",
       "    <tr>\n",
       "      <th>ABQ</th>\n",
       "      <td>93.454321</td>\n",
       "    </tr>\n",
       "    <tr>\n",
       "      <th>ABY</th>\n",
       "      <td>35.714286</td>\n",
       "    </tr>\n",
       "    <tr>\n",
       "      <th>ACK</th>\n",
       "      <td>50.800000</td>\n",
       "    </tr>\n",
       "    <tr>\n",
       "      <th>...</th>\n",
       "      <td>...</td>\n",
       "    </tr>\n",
       "    <tr>\n",
       "      <th>WRG</th>\n",
       "      <td>18.000000</td>\n",
       "    </tr>\n",
       "    <tr>\n",
       "      <th>XNA</th>\n",
       "      <td>85.945736</td>\n",
       "    </tr>\n",
       "    <tr>\n",
       "      <th>YAK</th>\n",
       "      <td>35.900000</td>\n",
       "    </tr>\n",
       "    <tr>\n",
       "      <th>YKM</th>\n",
       "      <td>79.000000</td>\n",
       "    </tr>\n",
       "    <tr>\n",
       "      <th>YUM</th>\n",
       "      <td>47.470588</td>\n",
       "    </tr>\n",
       "  </tbody>\n",
       "</table>\n",
       "<p>297 rows × 1 columns</p>\n",
       "</div>"
      ],
      "text/plain": [
       "          AirTime\n",
       "Origin           \n",
       "ABE     88.266667\n",
       "ABI     36.400000\n",
       "ABQ     93.454321\n",
       "ABY     35.714286\n",
       "ACK     50.800000\n",
       "...           ...\n",
       "WRG     18.000000\n",
       "XNA     85.945736\n",
       "YAK     35.900000\n",
       "YKM     79.000000\n",
       "YUM     47.470588\n",
       "\n",
       "[297 rows x 1 columns]"
      ]
     },
     "execution_count": 34,
     "metadata": {},
     "output_type": "execute_result"
    }
   ],
   "source": [
    "data[['Origin', 'AirTime']].groupby(by='Origin').mean()"
   ]
  },
  {
   "cell_type": "code",
   "execution_count": 35,
   "metadata": {},
   "outputs": [
    {
     "data": {
      "text/plain": [
       "'SJU'"
      ]
     },
     "execution_count": 35,
     "metadata": {},
     "output_type": "execute_result"
    }
   ],
   "source": [
    "data.groupby('Origin')['AirTime'].mean().idxmax()"
   ]
  },
  {
   "cell_type": "markdown",
   "metadata": {},
   "source": [
    "**11. (0.5 балла)** Найдите аэропорт, у которого наибольшая доля задержанных (`DepDelay > 0`) рейсов. Исключите при этом из рассмотрения аэропорты, из которых было отправлено меньше 1000 рейсов (используйте функцию `filter` после `groupby`)."
   ]
  },
  {
   "cell_type": "code",
   "execution_count": 36,
   "metadata": {},
   "outputs": [
    {
     "name": "stderr",
     "output_type": "stream",
     "text": [
      "/var/folders/46/sq60ntjj7c5bqzjg23rs0_mm0000gn/T/ipykernel_927/2539705597.py:2: UserWarning: Boolean Series key will be reindexed to match DataFrame index.\n",
      "  all_ap_delay = data.groupby('Origin').filter(lambda x: len(x) >= 1000)[data['DepDelay'] > 0].groupby('Origin').size()\n"
     ]
    },
    {
     "data": {
      "text/plain": [
       "'EWR'"
      ]
     },
     "execution_count": 36,
     "metadata": {},
     "output_type": "execute_result"
    }
   ],
   "source": [
    "all_ap = data.groupby('Origin').filter(lambda x: len(x) >= 1000).groupby('Origin').size()\n",
    "all_ap_delay = data.groupby('Origin').filter(lambda x: len(x) >= 1000)[data['DepDelay'] > 0].groupby('Origin').size()\n",
    "\n",
    "p = all_ap_delay / all_ap\n",
    "p.idxmax()"
   ]
  },
  {
   "cell_type": "markdown",
   "metadata": {},
   "source": [
    "## Линейная регрессия\n",
    "\n",
    "В этой части мы разберемся с линейной регрессией, способами её обучения и измерением качества ее прогнозов. \n",
    "\n",
    "Будем рассматривать датасет из предыдущей части задания для предсказания времени задержки отправления рейса в минутах (DepDelay). Отметим, что под задержкой подразумевается не только опоздание рейса относительно планируемого времени вылета, но и отправление до планируемого времени.\n",
    "\n",
    "### Подготовка данных\n",
    "\n",
    "**12. (0.5 балла)** Считайте выборку из файла при помощи функции pd.read_csv и ответьте на следующие вопросы:\n",
    "   - Имеются ли в данных пропущенные значения?\n",
    "   - Сколько всего пропущенных элементов в таблице \"объект-признак\"?\n",
    "   - Сколько объектов имеют хотя бы один пропуск?\n",
    "   - Сколько признаков имеют хотя бы одно пропущенное значение?"
   ]
  },
  {
   "cell_type": "code",
   "execution_count": 37,
   "metadata": {
    "scrolled": true
   },
   "outputs": [],
   "source": [
    "data = pd.read_csv('2008.csv')"
   ]
  },
  {
   "cell_type": "code",
   "execution_count": 38,
   "metadata": {},
   "outputs": [
    {
     "data": {
      "text/plain": [
       "Year                 False\n",
       "Month                False\n",
       "DayofMonth           False\n",
       "DayOfWeek            False\n",
       "DepTime               True\n",
       "CRSDepTime           False\n",
       "ArrTime               True\n",
       "CRSArrTime           False\n",
       "UniqueCarrier        False\n",
       "FlightNum            False\n",
       "TailNum               True\n",
       "ActualElapsedTime     True\n",
       "CRSElapsedTime        True\n",
       "AirTime               True\n",
       "ArrDelay              True\n",
       "DepDelay              True\n",
       "Origin               False\n",
       "Dest                 False\n",
       "Distance             False\n",
       "TaxiIn                True\n",
       "TaxiOut               True\n",
       "Cancelled            False\n",
       "CancellationCode      True\n",
       "Diverted             False\n",
       "CarrierDelay          True\n",
       "WeatherDelay          True\n",
       "NASDelay              True\n",
       "SecurityDelay         True\n",
       "LateAircraftDelay     True\n",
       "dtype: bool"
      ]
     },
     "execution_count": 38,
     "metadata": {},
     "output_type": "execute_result"
    }
   ],
   "source": [
    "data.isnull().any()"
   ]
  },
  {
   "cell_type": "code",
   "execution_count": 39,
   "metadata": {},
   "outputs": [
    {
     "data": {
      "text/plain": [
       "355215"
      ]
     },
     "execution_count": 39,
     "metadata": {},
     "output_type": "execute_result"
    }
   ],
   "source": [
    "data.isnull().sum().sum()"
   ]
  },
  {
   "cell_type": "code",
   "execution_count": 40,
   "metadata": {},
   "outputs": [
    {
     "data": {
      "text/plain": [
       "70000"
      ]
     },
     "execution_count": 40,
     "metadata": {},
     "output_type": "execute_result"
    }
   ],
   "source": [
    "data.isnull().any(axis = 1).sum()"
   ]
  },
  {
   "cell_type": "code",
   "execution_count": 41,
   "metadata": {},
   "outputs": [
    {
     "data": {
      "text/plain": [
       "16"
      ]
     },
     "execution_count": 41,
     "metadata": {},
     "output_type": "execute_result"
    }
   ],
   "source": [
    "data.isnull().any().sum()"
   ]
  },
  {
   "cell_type": "markdown",
   "metadata": {},
   "source": [
    "Как вы понимаете, также не имеет смысла рассматривать при решении поставленной задачи объекты с пропущенным значением целевой переменной. В связи с этим ответьте на следующие вопросы и выполните соответствующие действия:\n",
    "- Имеются ли пропущенные значения в целевой переменной?\n",
    "- Проанализируйте объекты с пропущенными значениями целевой переменной. Чем вызвано это явление? Что их объединяет? Можно ли в связи с этим, на ваш взгляд, исключить какие-то признаки из рассмотрения? Обоснуйте свою точку зрения.\n",
    "\n",
    "Исключите из выборки объекты **с пропущенным значением целевой переменной и со значением целевой переменной, равным 0**, а также при необходимости исключите признаки в соответствии с вашим ответом на последний вопрос из списка и выделите целевую переменную в отдельный вектор, исключив её из матрицы \"объект-признак\"."
   ]
  },
  {
   "cell_type": "code",
   "execution_count": 49,
   "metadata": {},
   "outputs": [
    {
     "data": {
      "text/html": [
       "<div>\n",
       "<style scoped>\n",
       "    .dataframe tbody tr th:only-of-type {\n",
       "        vertical-align: middle;\n",
       "    }\n",
       "\n",
       "    .dataframe tbody tr th {\n",
       "        vertical-align: top;\n",
       "    }\n",
       "\n",
       "    .dataframe thead th {\n",
       "        text-align: right;\n",
       "    }\n",
       "</style>\n",
       "<table border=\"1\" class=\"dataframe\">\n",
       "  <thead>\n",
       "    <tr style=\"text-align: right;\">\n",
       "      <th></th>\n",
       "      <th>Year</th>\n",
       "      <th>Month</th>\n",
       "      <th>DayofMonth</th>\n",
       "      <th>DayOfWeek</th>\n",
       "      <th>DepTime</th>\n",
       "      <th>CRSDepTime</th>\n",
       "      <th>ArrTime</th>\n",
       "      <th>CRSArrTime</th>\n",
       "      <th>UniqueCarrier</th>\n",
       "      <th>FlightNum</th>\n",
       "      <th>...</th>\n",
       "      <th>ActualElapsedTime</th>\n",
       "      <th>CRSElapsedTime</th>\n",
       "      <th>AirTime</th>\n",
       "      <th>ArrDelay</th>\n",
       "      <th>Origin</th>\n",
       "      <th>Dest</th>\n",
       "      <th>Distance</th>\n",
       "      <th>TaxiIn</th>\n",
       "      <th>TaxiOut</th>\n",
       "      <th>Diverted</th>\n",
       "    </tr>\n",
       "  </thead>\n",
       "  <tbody>\n",
       "    <tr>\n",
       "      <th>0</th>\n",
       "      <td>2008</td>\n",
       "      <td>6</td>\n",
       "      <td>18</td>\n",
       "      <td>3</td>\n",
       "      <td>2111.0</td>\n",
       "      <td>2055</td>\n",
       "      <td>2308.0</td>\n",
       "      <td>2300</td>\n",
       "      <td>WN</td>\n",
       "      <td>242</td>\n",
       "      <td>...</td>\n",
       "      <td>57.0</td>\n",
       "      <td>65.0</td>\n",
       "      <td>46.0</td>\n",
       "      <td>8.0</td>\n",
       "      <td>MDW</td>\n",
       "      <td>CLE</td>\n",
       "      <td>307</td>\n",
       "      <td>3.0</td>\n",
       "      <td>8.0</td>\n",
       "      <td>0</td>\n",
       "    </tr>\n",
       "    <tr>\n",
       "      <th>1</th>\n",
       "      <td>2008</td>\n",
       "      <td>6</td>\n",
       "      <td>4</td>\n",
       "      <td>3</td>\n",
       "      <td>1426.0</td>\n",
       "      <td>1410</td>\n",
       "      <td>1730.0</td>\n",
       "      <td>1728</td>\n",
       "      <td>XE</td>\n",
       "      <td>2380</td>\n",
       "      <td>...</td>\n",
       "      <td>124.0</td>\n",
       "      <td>138.0</td>\n",
       "      <td>108.0</td>\n",
       "      <td>2.0</td>\n",
       "      <td>IAH</td>\n",
       "      <td>AVL</td>\n",
       "      <td>834</td>\n",
       "      <td>4.0</td>\n",
       "      <td>12.0</td>\n",
       "      <td>0</td>\n",
       "    </tr>\n",
       "    <tr>\n",
       "      <th>2</th>\n",
       "      <td>2008</td>\n",
       "      <td>8</td>\n",
       "      <td>3</td>\n",
       "      <td>7</td>\n",
       "      <td>1143.0</td>\n",
       "      <td>1145</td>\n",
       "      <td>1501.0</td>\n",
       "      <td>1520</td>\n",
       "      <td>WN</td>\n",
       "      <td>1769</td>\n",
       "      <td>...</td>\n",
       "      <td>138.0</td>\n",
       "      <td>155.0</td>\n",
       "      <td>125.0</td>\n",
       "      <td>-19.0</td>\n",
       "      <td>MDW</td>\n",
       "      <td>TPA</td>\n",
       "      <td>997</td>\n",
       "      <td>4.0</td>\n",
       "      <td>9.0</td>\n",
       "      <td>0</td>\n",
       "    </tr>\n",
       "    <tr>\n",
       "      <th>3</th>\n",
       "      <td>2008</td>\n",
       "      <td>1</td>\n",
       "      <td>23</td>\n",
       "      <td>3</td>\n",
       "      <td>1141.0</td>\n",
       "      <td>1144</td>\n",
       "      <td>1323.0</td>\n",
       "      <td>1335</td>\n",
       "      <td>OO</td>\n",
       "      <td>3802</td>\n",
       "      <td>...</td>\n",
       "      <td>102.0</td>\n",
       "      <td>111.0</td>\n",
       "      <td>79.0</td>\n",
       "      <td>-12.0</td>\n",
       "      <td>SLC</td>\n",
       "      <td>FCA</td>\n",
       "      <td>532</td>\n",
       "      <td>4.0</td>\n",
       "      <td>19.0</td>\n",
       "      <td>0</td>\n",
       "    </tr>\n",
       "    <tr>\n",
       "      <th>4</th>\n",
       "      <td>2008</td>\n",
       "      <td>5</td>\n",
       "      <td>4</td>\n",
       "      <td>7</td>\n",
       "      <td>815.0</td>\n",
       "      <td>820</td>\n",
       "      <td>1243.0</td>\n",
       "      <td>1300</td>\n",
       "      <td>WN</td>\n",
       "      <td>399</td>\n",
       "      <td>...</td>\n",
       "      <td>148.0</td>\n",
       "      <td>160.0</td>\n",
       "      <td>136.0</td>\n",
       "      <td>-17.0</td>\n",
       "      <td>LAS</td>\n",
       "      <td>AUS</td>\n",
       "      <td>1090</td>\n",
       "      <td>4.0</td>\n",
       "      <td>8.0</td>\n",
       "      <td>0</td>\n",
       "    </tr>\n",
       "    <tr>\n",
       "      <th>...</th>\n",
       "      <td>...</td>\n",
       "      <td>...</td>\n",
       "      <td>...</td>\n",
       "      <td>...</td>\n",
       "      <td>...</td>\n",
       "      <td>...</td>\n",
       "      <td>...</td>\n",
       "      <td>...</td>\n",
       "      <td>...</td>\n",
       "      <td>...</td>\n",
       "      <td>...</td>\n",
       "      <td>...</td>\n",
       "      <td>...</td>\n",
       "      <td>...</td>\n",
       "      <td>...</td>\n",
       "      <td>...</td>\n",
       "      <td>...</td>\n",
       "      <td>...</td>\n",
       "      <td>...</td>\n",
       "      <td>...</td>\n",
       "      <td>...</td>\n",
       "    </tr>\n",
       "    <tr>\n",
       "      <th>63399</th>\n",
       "      <td>2008</td>\n",
       "      <td>1</td>\n",
       "      <td>26</td>\n",
       "      <td>6</td>\n",
       "      <td>920.0</td>\n",
       "      <td>925</td>\n",
       "      <td>1110.0</td>\n",
       "      <td>1118</td>\n",
       "      <td>OH</td>\n",
       "      <td>5218</td>\n",
       "      <td>...</td>\n",
       "      <td>110.0</td>\n",
       "      <td>113.0</td>\n",
       "      <td>85.0</td>\n",
       "      <td>-8.0</td>\n",
       "      <td>CVG</td>\n",
       "      <td>BDL</td>\n",
       "      <td>661</td>\n",
       "      <td>12.0</td>\n",
       "      <td>13.0</td>\n",
       "      <td>0</td>\n",
       "    </tr>\n",
       "    <tr>\n",
       "      <th>63400</th>\n",
       "      <td>2008</td>\n",
       "      <td>5</td>\n",
       "      <td>12</td>\n",
       "      <td>1</td>\n",
       "      <td>1829.0</td>\n",
       "      <td>1840</td>\n",
       "      <td>2137.0</td>\n",
       "      <td>2149</td>\n",
       "      <td>DL</td>\n",
       "      <td>794</td>\n",
       "      <td>...</td>\n",
       "      <td>128.0</td>\n",
       "      <td>129.0</td>\n",
       "      <td>86.0</td>\n",
       "      <td>-12.0</td>\n",
       "      <td>ORD</td>\n",
       "      <td>ATL</td>\n",
       "      <td>606</td>\n",
       "      <td>22.0</td>\n",
       "      <td>20.0</td>\n",
       "      <td>0</td>\n",
       "    </tr>\n",
       "    <tr>\n",
       "      <th>63401</th>\n",
       "      <td>2008</td>\n",
       "      <td>5</td>\n",
       "      <td>11</td>\n",
       "      <td>7</td>\n",
       "      <td>1149.0</td>\n",
       "      <td>1125</td>\n",
       "      <td>1336.0</td>\n",
       "      <td>1314</td>\n",
       "      <td>OO</td>\n",
       "      <td>6159</td>\n",
       "      <td>...</td>\n",
       "      <td>47.0</td>\n",
       "      <td>49.0</td>\n",
       "      <td>30.0</td>\n",
       "      <td>22.0</td>\n",
       "      <td>ORD</td>\n",
       "      <td>GRR</td>\n",
       "      <td>137</td>\n",
       "      <td>4.0</td>\n",
       "      <td>13.0</td>\n",
       "      <td>0</td>\n",
       "    </tr>\n",
       "    <tr>\n",
       "      <th>63402</th>\n",
       "      <td>2008</td>\n",
       "      <td>2</td>\n",
       "      <td>18</td>\n",
       "      <td>1</td>\n",
       "      <td>1906.0</td>\n",
       "      <td>1900</td>\n",
       "      <td>2200.0</td>\n",
       "      <td>2139</td>\n",
       "      <td>NW</td>\n",
       "      <td>641</td>\n",
       "      <td>...</td>\n",
       "      <td>234.0</td>\n",
       "      <td>219.0</td>\n",
       "      <td>192.0</td>\n",
       "      <td>21.0</td>\n",
       "      <td>RSW</td>\n",
       "      <td>MSP</td>\n",
       "      <td>1416</td>\n",
       "      <td>20.0</td>\n",
       "      <td>22.0</td>\n",
       "      <td>0</td>\n",
       "    </tr>\n",
       "    <tr>\n",
       "      <th>63403</th>\n",
       "      <td>2008</td>\n",
       "      <td>12</td>\n",
       "      <td>6</td>\n",
       "      <td>6</td>\n",
       "      <td>859.0</td>\n",
       "      <td>900</td>\n",
       "      <td>959.0</td>\n",
       "      <td>1005</td>\n",
       "      <td>WN</td>\n",
       "      <td>510</td>\n",
       "      <td>...</td>\n",
       "      <td>60.0</td>\n",
       "      <td>65.0</td>\n",
       "      <td>46.0</td>\n",
       "      <td>-6.0</td>\n",
       "      <td>LAS</td>\n",
       "      <td>BUR</td>\n",
       "      <td>223</td>\n",
       "      <td>2.0</td>\n",
       "      <td>12.0</td>\n",
       "      <td>0</td>\n",
       "    </tr>\n",
       "  </tbody>\n",
       "</table>\n",
       "<p>63404 rows × 21 columns</p>\n",
       "</div>"
      ],
      "text/plain": [
       "       Year  Month  DayofMonth  DayOfWeek  DepTime  CRSDepTime  ArrTime  \\\n",
       "0      2008      6          18          3   2111.0        2055   2308.0   \n",
       "1      2008      6           4          3   1426.0        1410   1730.0   \n",
       "2      2008      8           3          7   1143.0        1145   1501.0   \n",
       "3      2008      1          23          3   1141.0        1144   1323.0   \n",
       "4      2008      5           4          7    815.0         820   1243.0   \n",
       "...     ...    ...         ...        ...      ...         ...      ...   \n",
       "63399  2008      1          26          6    920.0         925   1110.0   \n",
       "63400  2008      5          12          1   1829.0        1840   2137.0   \n",
       "63401  2008      5          11          7   1149.0        1125   1336.0   \n",
       "63402  2008      2          18          1   1906.0        1900   2200.0   \n",
       "63403  2008     12           6          6    859.0         900    959.0   \n",
       "\n",
       "       CRSArrTime UniqueCarrier  FlightNum  ... ActualElapsedTime  \\\n",
       "0            2300            WN        242  ...              57.0   \n",
       "1            1728            XE       2380  ...             124.0   \n",
       "2            1520            WN       1769  ...             138.0   \n",
       "3            1335            OO       3802  ...             102.0   \n",
       "4            1300            WN        399  ...             148.0   \n",
       "...           ...           ...        ...  ...               ...   \n",
       "63399        1118            OH       5218  ...             110.0   \n",
       "63400        2149            DL        794  ...             128.0   \n",
       "63401        1314            OO       6159  ...              47.0   \n",
       "63402        2139            NW        641  ...             234.0   \n",
       "63403        1005            WN        510  ...              60.0   \n",
       "\n",
       "       CRSElapsedTime  AirTime  ArrDelay  Origin Dest Distance  TaxiIn  \\\n",
       "0                65.0     46.0       8.0     MDW  CLE      307     3.0   \n",
       "1               138.0    108.0       2.0     IAH  AVL      834     4.0   \n",
       "2               155.0    125.0     -19.0     MDW  TPA      997     4.0   \n",
       "3               111.0     79.0     -12.0     SLC  FCA      532     4.0   \n",
       "4               160.0    136.0     -17.0     LAS  AUS     1090     4.0   \n",
       "...               ...      ...       ...     ...  ...      ...     ...   \n",
       "63399           113.0     85.0      -8.0     CVG  BDL      661    12.0   \n",
       "63400           129.0     86.0     -12.0     ORD  ATL      606    22.0   \n",
       "63401            49.0     30.0      22.0     ORD  GRR      137     4.0   \n",
       "63402           219.0    192.0      21.0     RSW  MSP     1416    20.0   \n",
       "63403            65.0     46.0      -6.0     LAS  BUR      223     2.0   \n",
       "\n",
       "       TaxiOut  Diverted  \n",
       "0          8.0         0  \n",
       "1         12.0         0  \n",
       "2          9.0         0  \n",
       "3         19.0         0  \n",
       "4          8.0         0  \n",
       "...        ...       ...  \n",
       "63399     13.0         0  \n",
       "63400     20.0         0  \n",
       "63401     13.0         0  \n",
       "63402     22.0         0  \n",
       "63403     12.0         0  \n",
       "\n",
       "[63404 rows x 21 columns]"
      ]
     },
     "execution_count": 49,
     "metadata": {},
     "output_type": "execute_result"
    }
   ],
   "source": [
    "data1 = data[(data['DepDelay'].isnull() == False) & (data['DepDelay'] != 0)]\n",
    "data1 = data1.drop(['Cancelled', 'CancellationCode', 'CarrierDelay', 'WeatherDelay', 'NASDelay', \n",
    "                    'SecurityDelay', 'LateAircraftDelay'], axis='columns')\n",
    "\n",
    "data1 = data1.reset_index(drop=True)\n",
    "depdelay_new = data1['DepDelay'].values\n",
    "data1 = data1.drop('DepDelay', axis='columns')\n",
    "data1"
   ]
  },
  {
   "cell_type": "markdown",
   "metadata": {},
   "source": [
    "**13. (0.5 балла)** Обратите внимание, что признаки DepTime, CRSDepTime, ArrTime, CRSArrTime приведены в формате hhmm, в связи с чем будет не вполне корректно рассматривать их как вещественные.\n",
    "\n",
    "Преобразуйте каждый признак FeatureName из указанных в пару новых признаков FeatureName\\_Hour, FeatureName\\_Minute, разделив каждое из значений на часы и минуты. Не забудьте при этом исключить исходный признак из выборки. В случае, если значение признака отсутствует, значения двух новых признаков, его заменяющих, также должны отсутствовать. \n",
    "\n",
    "Например, признак DepTime необходимо заменить на пару признаков DepTime_Hour, DepTime_Minute. При этом, например, значение 155 исходного признака будет преобразовано в значения 1 и 55 признаков DepTime_Hour, DepTime_Minute соответственно."
   ]
  },
  {
   "cell_type": "code",
   "execution_count": 50,
   "metadata": {},
   "outputs": [
    {
     "data": {
      "text/html": [
       "<div>\n",
       "<style scoped>\n",
       "    .dataframe tbody tr th:only-of-type {\n",
       "        vertical-align: middle;\n",
       "    }\n",
       "\n",
       "    .dataframe tbody tr th {\n",
       "        vertical-align: top;\n",
       "    }\n",
       "\n",
       "    .dataframe thead th {\n",
       "        text-align: right;\n",
       "    }\n",
       "</style>\n",
       "<table border=\"1\" class=\"dataframe\">\n",
       "  <thead>\n",
       "    <tr style=\"text-align: right;\">\n",
       "      <th></th>\n",
       "      <th>Year</th>\n",
       "      <th>Month</th>\n",
       "      <th>DayofMonth</th>\n",
       "      <th>DayOfWeek</th>\n",
       "      <th>UniqueCarrier</th>\n",
       "      <th>FlightNum</th>\n",
       "      <th>TailNum</th>\n",
       "      <th>ActualElapsedTime</th>\n",
       "      <th>CRSElapsedTime</th>\n",
       "      <th>AirTime</th>\n",
       "      <th>...</th>\n",
       "      <th>TaxiOut</th>\n",
       "      <th>Diverted</th>\n",
       "      <th>DepTime_Hour</th>\n",
       "      <th>DepTime_Minute</th>\n",
       "      <th>CRSDepTime_Hour</th>\n",
       "      <th>CRSDepTime_Minute</th>\n",
       "      <th>ArrTime_Hour</th>\n",
       "      <th>ArrTime_Minute</th>\n",
       "      <th>CRSArrTime_Hour</th>\n",
       "      <th>CRSArrTime_Minute</th>\n",
       "    </tr>\n",
       "  </thead>\n",
       "  <tbody>\n",
       "    <tr>\n",
       "      <th>0</th>\n",
       "      <td>2008</td>\n",
       "      <td>6</td>\n",
       "      <td>18</td>\n",
       "      <td>3</td>\n",
       "      <td>WN</td>\n",
       "      <td>242</td>\n",
       "      <td>N699SW</td>\n",
       "      <td>57.0</td>\n",
       "      <td>65.0</td>\n",
       "      <td>46.0</td>\n",
       "      <td>...</td>\n",
       "      <td>8.0</td>\n",
       "      <td>0</td>\n",
       "      <td>21.0</td>\n",
       "      <td>11</td>\n",
       "      <td>20.0</td>\n",
       "      <td>55</td>\n",
       "      <td>23.0</td>\n",
       "      <td>8.0</td>\n",
       "      <td>23.0</td>\n",
       "      <td>0</td>\n",
       "    </tr>\n",
       "    <tr>\n",
       "      <th>1</th>\n",
       "      <td>2008</td>\n",
       "      <td>6</td>\n",
       "      <td>4</td>\n",
       "      <td>3</td>\n",
       "      <td>XE</td>\n",
       "      <td>2380</td>\n",
       "      <td>N15980</td>\n",
       "      <td>124.0</td>\n",
       "      <td>138.0</td>\n",
       "      <td>108.0</td>\n",
       "      <td>...</td>\n",
       "      <td>12.0</td>\n",
       "      <td>0</td>\n",
       "      <td>14.0</td>\n",
       "      <td>26</td>\n",
       "      <td>14.0</td>\n",
       "      <td>10</td>\n",
       "      <td>17.0</td>\n",
       "      <td>30.0</td>\n",
       "      <td>17.0</td>\n",
       "      <td>28</td>\n",
       "    </tr>\n",
       "    <tr>\n",
       "      <th>2</th>\n",
       "      <td>2008</td>\n",
       "      <td>8</td>\n",
       "      <td>3</td>\n",
       "      <td>7</td>\n",
       "      <td>WN</td>\n",
       "      <td>1769</td>\n",
       "      <td>N464WN</td>\n",
       "      <td>138.0</td>\n",
       "      <td>155.0</td>\n",
       "      <td>125.0</td>\n",
       "      <td>...</td>\n",
       "      <td>9.0</td>\n",
       "      <td>0</td>\n",
       "      <td>11.0</td>\n",
       "      <td>43</td>\n",
       "      <td>11.0</td>\n",
       "      <td>45</td>\n",
       "      <td>15.0</td>\n",
       "      <td>1.0</td>\n",
       "      <td>15.0</td>\n",
       "      <td>20</td>\n",
       "    </tr>\n",
       "    <tr>\n",
       "      <th>3</th>\n",
       "      <td>2008</td>\n",
       "      <td>1</td>\n",
       "      <td>23</td>\n",
       "      <td>3</td>\n",
       "      <td>OO</td>\n",
       "      <td>3802</td>\n",
       "      <td>N465SW</td>\n",
       "      <td>102.0</td>\n",
       "      <td>111.0</td>\n",
       "      <td>79.0</td>\n",
       "      <td>...</td>\n",
       "      <td>19.0</td>\n",
       "      <td>0</td>\n",
       "      <td>11.0</td>\n",
       "      <td>41</td>\n",
       "      <td>11.0</td>\n",
       "      <td>44</td>\n",
       "      <td>13.0</td>\n",
       "      <td>23.0</td>\n",
       "      <td>13.0</td>\n",
       "      <td>35</td>\n",
       "    </tr>\n",
       "    <tr>\n",
       "      <th>4</th>\n",
       "      <td>2008</td>\n",
       "      <td>5</td>\n",
       "      <td>4</td>\n",
       "      <td>7</td>\n",
       "      <td>WN</td>\n",
       "      <td>399</td>\n",
       "      <td>N489WN</td>\n",
       "      <td>148.0</td>\n",
       "      <td>160.0</td>\n",
       "      <td>136.0</td>\n",
       "      <td>...</td>\n",
       "      <td>8.0</td>\n",
       "      <td>0</td>\n",
       "      <td>8.0</td>\n",
       "      <td>15</td>\n",
       "      <td>8.0</td>\n",
       "      <td>20</td>\n",
       "      <td>12.0</td>\n",
       "      <td>43.0</td>\n",
       "      <td>13.0</td>\n",
       "      <td>0</td>\n",
       "    </tr>\n",
       "    <tr>\n",
       "      <th>...</th>\n",
       "      <td>...</td>\n",
       "      <td>...</td>\n",
       "      <td>...</td>\n",
       "      <td>...</td>\n",
       "      <td>...</td>\n",
       "      <td>...</td>\n",
       "      <td>...</td>\n",
       "      <td>...</td>\n",
       "      <td>...</td>\n",
       "      <td>...</td>\n",
       "      <td>...</td>\n",
       "      <td>...</td>\n",
       "      <td>...</td>\n",
       "      <td>...</td>\n",
       "      <td>...</td>\n",
       "      <td>...</td>\n",
       "      <td>...</td>\n",
       "      <td>...</td>\n",
       "      <td>...</td>\n",
       "      <td>...</td>\n",
       "      <td>...</td>\n",
       "    </tr>\n",
       "    <tr>\n",
       "      <th>63399</th>\n",
       "      <td>2008</td>\n",
       "      <td>1</td>\n",
       "      <td>26</td>\n",
       "      <td>6</td>\n",
       "      <td>OH</td>\n",
       "      <td>5218</td>\n",
       "      <td>N655CA</td>\n",
       "      <td>110.0</td>\n",
       "      <td>113.0</td>\n",
       "      <td>85.0</td>\n",
       "      <td>...</td>\n",
       "      <td>13.0</td>\n",
       "      <td>0</td>\n",
       "      <td>9.0</td>\n",
       "      <td>20</td>\n",
       "      <td>9.0</td>\n",
       "      <td>25</td>\n",
       "      <td>11.0</td>\n",
       "      <td>10.0</td>\n",
       "      <td>11.0</td>\n",
       "      <td>18</td>\n",
       "    </tr>\n",
       "    <tr>\n",
       "      <th>63400</th>\n",
       "      <td>2008</td>\n",
       "      <td>5</td>\n",
       "      <td>12</td>\n",
       "      <td>1</td>\n",
       "      <td>DL</td>\n",
       "      <td>794</td>\n",
       "      <td>N988DL</td>\n",
       "      <td>128.0</td>\n",
       "      <td>129.0</td>\n",
       "      <td>86.0</td>\n",
       "      <td>...</td>\n",
       "      <td>20.0</td>\n",
       "      <td>0</td>\n",
       "      <td>18.0</td>\n",
       "      <td>29</td>\n",
       "      <td>18.0</td>\n",
       "      <td>40</td>\n",
       "      <td>21.0</td>\n",
       "      <td>37.0</td>\n",
       "      <td>21.0</td>\n",
       "      <td>49</td>\n",
       "    </tr>\n",
       "    <tr>\n",
       "      <th>63401</th>\n",
       "      <td>2008</td>\n",
       "      <td>5</td>\n",
       "      <td>11</td>\n",
       "      <td>7</td>\n",
       "      <td>OO</td>\n",
       "      <td>6159</td>\n",
       "      <td>N776SK</td>\n",
       "      <td>47.0</td>\n",
       "      <td>49.0</td>\n",
       "      <td>30.0</td>\n",
       "      <td>...</td>\n",
       "      <td>13.0</td>\n",
       "      <td>0</td>\n",
       "      <td>11.0</td>\n",
       "      <td>49</td>\n",
       "      <td>11.0</td>\n",
       "      <td>25</td>\n",
       "      <td>13.0</td>\n",
       "      <td>36.0</td>\n",
       "      <td>13.0</td>\n",
       "      <td>14</td>\n",
       "    </tr>\n",
       "    <tr>\n",
       "      <th>63402</th>\n",
       "      <td>2008</td>\n",
       "      <td>2</td>\n",
       "      <td>18</td>\n",
       "      <td>1</td>\n",
       "      <td>NW</td>\n",
       "      <td>641</td>\n",
       "      <td>N318US</td>\n",
       "      <td>234.0</td>\n",
       "      <td>219.0</td>\n",
       "      <td>192.0</td>\n",
       "      <td>...</td>\n",
       "      <td>22.0</td>\n",
       "      <td>0</td>\n",
       "      <td>19.0</td>\n",
       "      <td>6</td>\n",
       "      <td>19.0</td>\n",
       "      <td>0</td>\n",
       "      <td>22.0</td>\n",
       "      <td>0.0</td>\n",
       "      <td>21.0</td>\n",
       "      <td>39</td>\n",
       "    </tr>\n",
       "    <tr>\n",
       "      <th>63403</th>\n",
       "      <td>2008</td>\n",
       "      <td>12</td>\n",
       "      <td>6</td>\n",
       "      <td>6</td>\n",
       "      <td>WN</td>\n",
       "      <td>510</td>\n",
       "      <td>N786SW</td>\n",
       "      <td>60.0</td>\n",
       "      <td>65.0</td>\n",
       "      <td>46.0</td>\n",
       "      <td>...</td>\n",
       "      <td>12.0</td>\n",
       "      <td>0</td>\n",
       "      <td>8.0</td>\n",
       "      <td>59</td>\n",
       "      <td>9.0</td>\n",
       "      <td>0</td>\n",
       "      <td>9.0</td>\n",
       "      <td>59.0</td>\n",
       "      <td>10.0</td>\n",
       "      <td>5</td>\n",
       "    </tr>\n",
       "  </tbody>\n",
       "</table>\n",
       "<p>63404 rows × 25 columns</p>\n",
       "</div>"
      ],
      "text/plain": [
       "       Year  Month  DayofMonth  DayOfWeek UniqueCarrier  FlightNum TailNum  \\\n",
       "0      2008      6          18          3            WN        242  N699SW   \n",
       "1      2008      6           4          3            XE       2380  N15980   \n",
       "2      2008      8           3          7            WN       1769  N464WN   \n",
       "3      2008      1          23          3            OO       3802  N465SW   \n",
       "4      2008      5           4          7            WN        399  N489WN   \n",
       "...     ...    ...         ...        ...           ...        ...     ...   \n",
       "63399  2008      1          26          6            OH       5218  N655CA   \n",
       "63400  2008      5          12          1            DL        794  N988DL   \n",
       "63401  2008      5          11          7            OO       6159  N776SK   \n",
       "63402  2008      2          18          1            NW        641  N318US   \n",
       "63403  2008     12           6          6            WN        510  N786SW   \n",
       "\n",
       "       ActualElapsedTime  CRSElapsedTime  AirTime  ...  TaxiOut Diverted  \\\n",
       "0                   57.0            65.0     46.0  ...      8.0        0   \n",
       "1                  124.0           138.0    108.0  ...     12.0        0   \n",
       "2                  138.0           155.0    125.0  ...      9.0        0   \n",
       "3                  102.0           111.0     79.0  ...     19.0        0   \n",
       "4                  148.0           160.0    136.0  ...      8.0        0   \n",
       "...                  ...             ...      ...  ...      ...      ...   \n",
       "63399              110.0           113.0     85.0  ...     13.0        0   \n",
       "63400              128.0           129.0     86.0  ...     20.0        0   \n",
       "63401               47.0            49.0     30.0  ...     13.0        0   \n",
       "63402              234.0           219.0    192.0  ...     22.0        0   \n",
       "63403               60.0            65.0     46.0  ...     12.0        0   \n",
       "\n",
       "      DepTime_Hour  DepTime_Minute  CRSDepTime_Hour  CRSDepTime_Minute  \\\n",
       "0             21.0              11             20.0                 55   \n",
       "1             14.0              26             14.0                 10   \n",
       "2             11.0              43             11.0                 45   \n",
       "3             11.0              41             11.0                 44   \n",
       "4              8.0              15              8.0                 20   \n",
       "...            ...             ...              ...                ...   \n",
       "63399          9.0              20              9.0                 25   \n",
       "63400         18.0              29             18.0                 40   \n",
       "63401         11.0              49             11.0                 25   \n",
       "63402         19.0               6             19.0                  0   \n",
       "63403          8.0              59              9.0                  0   \n",
       "\n",
       "       ArrTime_Hour  ArrTime_Minute  CRSArrTime_Hour  CRSArrTime_Minute  \n",
       "0              23.0             8.0             23.0                  0  \n",
       "1              17.0            30.0             17.0                 28  \n",
       "2              15.0             1.0             15.0                 20  \n",
       "3              13.0            23.0             13.0                 35  \n",
       "4              12.0            43.0             13.0                  0  \n",
       "...             ...             ...              ...                ...  \n",
       "63399          11.0            10.0             11.0                 18  \n",
       "63400          21.0            37.0             21.0                 49  \n",
       "63401          13.0            36.0             13.0                 14  \n",
       "63402          22.0             0.0             21.0                 39  \n",
       "63403           9.0            59.0             10.0                  5  \n",
       "\n",
       "[63404 rows x 25 columns]"
      ]
     },
     "execution_count": 50,
     "metadata": {},
     "output_type": "execute_result"
    }
   ],
   "source": [
    "def get_hour(time):\n",
    "    if np.isnan(time):\n",
    "        return np.nan\n",
    "    else:\n",
    "        h = str(int(time))[:-2]\n",
    "        if h == '':\n",
    "            return np.nan \n",
    "        else:\n",
    "            return int(h)\n",
    "        \n",
    "def get_min(time):\n",
    "    if np.isnan(time):\n",
    "        return np.nan\n",
    "    else:\n",
    "        m = str(int(time))\n",
    "        return int(m[len(m)-2:])\n",
    "\n",
    "def split_time_features(data, column):\n",
    "    hours = data[column].apply(get_hour)\n",
    "    mins = data[column].apply(get_min)\n",
    "    data[column + '_Hour'] = hours\n",
    "    data[column + '_Minute'] = mins\n",
    "    data = data.drop(column, axis=1)\n",
    "    return data\n",
    "\n",
    "data1 = split_time_features(data1, 'DepTime')\n",
    "data1 = split_time_features(data1, 'CRSDepTime')\n",
    "data1 = split_time_features(data1, 'ArrTime')\n",
    "data1 = split_time_features(data1, 'CRSArrTime')\n",
    "data1"
   ]
  },
  {
   "cell_type": "markdown",
   "metadata": {},
   "source": [
    "**14. (0.5 балла)** Некоторые из признаков, отличных от целевой переменной, могут оказывать чересчур значимое влияние на прогноз, поскольку по своему смыслу содержат большую долю информации о значении целевой переменной. Изучите описание датасета и исключите признаки, сильно коррелирующие с ответами. Ваш выбор признаков для исключения из выборки обоснуйте. Кроме того, исключите признаки TailNum и Year."
   ]
  },
  {
   "cell_type": "code",
   "execution_count": 51,
   "metadata": {},
   "outputs": [],
   "source": [
    "data1 = data1.drop(['TailNum', 'Year'], axis=1)"
   ]
  },
  {
   "cell_type": "code",
   "execution_count": 52,
   "metadata": {},
   "outputs": [],
   "source": [
    "data1_num = data1.select_dtypes([np.number])\n",
    "data1_mean = data1_num.mean()\n",
    "num_func = data1_num.columns"
   ]
  },
  {
   "cell_type": "code",
   "execution_count": 54,
   "metadata": {},
   "outputs": [
    {
     "name": "stdout",
     "output_type": "stream",
     "text": [
      "Collecting seaborn\n",
      "  Obtaining dependency information for seaborn from https://files.pythonhosted.org/packages/7b/e5/83fcd7e9db036c179e0352bfcd20f81d728197a16f883e7b90307a88e65e/seaborn-0.13.0-py3-none-any.whl.metadata\n",
      "  Downloading seaborn-0.13.0-py3-none-any.whl.metadata (5.3 kB)\n",
      "Requirement already satisfied: numpy!=1.24.0,>=1.20 in /usr/local/lib/python3.11/site-packages (from seaborn) (1.26.0)\n",
      "Requirement already satisfied: pandas>=1.2 in /usr/local/lib/python3.11/site-packages (from seaborn) (2.1.1)\n",
      "Requirement already satisfied: matplotlib!=3.6.1,>=3.3 in /usr/local/lib/python3.11/site-packages (from seaborn) (3.8.0)\n",
      "Requirement already satisfied: contourpy>=1.0.1 in /usr/local/lib/python3.11/site-packages (from matplotlib!=3.6.1,>=3.3->seaborn) (1.1.1)\n",
      "Requirement already satisfied: cycler>=0.10 in /usr/local/lib/python3.11/site-packages (from matplotlib!=3.6.1,>=3.3->seaborn) (0.12.1)\n",
      "Requirement already satisfied: fonttools>=4.22.0 in /usr/local/lib/python3.11/site-packages (from matplotlib!=3.6.1,>=3.3->seaborn) (4.43.1)\n",
      "Requirement already satisfied: kiwisolver>=1.0.1 in /usr/local/lib/python3.11/site-packages (from matplotlib!=3.6.1,>=3.3->seaborn) (1.4.5)\n",
      "Requirement already satisfied: packaging>=20.0 in /usr/local/lib/python3.11/site-packages (from matplotlib!=3.6.1,>=3.3->seaborn) (23.2)\n",
      "Requirement already satisfied: pillow>=6.2.0 in /usr/local/lib/python3.11/site-packages (from matplotlib!=3.6.1,>=3.3->seaborn) (10.0.1)\n",
      "Requirement already satisfied: pyparsing>=2.3.1 in /usr/local/lib/python3.11/site-packages (from matplotlib!=3.6.1,>=3.3->seaborn) (3.1.1)\n",
      "Requirement already satisfied: python-dateutil>=2.7 in /usr/local/lib/python3.11/site-packages (from matplotlib!=3.6.1,>=3.3->seaborn) (2.8.2)\n",
      "Requirement already satisfied: pytz>=2020.1 in /usr/local/lib/python3.11/site-packages (from pandas>=1.2->seaborn) (2023.3.post1)\n",
      "Requirement already satisfied: tzdata>=2022.1 in /usr/local/lib/python3.11/site-packages (from pandas>=1.2->seaborn) (2023.3)\n",
      "Requirement already satisfied: six>=1.5 in /usr/local/lib/python3.11/site-packages (from python-dateutil>=2.7->matplotlib!=3.6.1,>=3.3->seaborn) (1.16.0)\n",
      "Downloading seaborn-0.13.0-py3-none-any.whl (294 kB)\n",
      "\u001b[2K   \u001b[90m━━━━━━━━━━━━━━━━━━━━━━━━━━━━━━━━━━━━━━━━\u001b[0m \u001b[32m294.6/294.6 kB\u001b[0m \u001b[31m2.7 MB/s\u001b[0m eta \u001b[36m0:00:00\u001b[0ma \u001b[36m0:00:01\u001b[0m\n",
      "\u001b[?25hInstalling collected packages: seaborn\n",
      "Successfully installed seaborn-0.13.0\n"
     ]
    }
   ],
   "source": [
    "!pip install seaborn"
   ]
  },
  {
   "cell_type": "code",
   "execution_count": 55,
   "metadata": {},
   "outputs": [],
   "source": [
    "import seaborn as sns\n",
    "%matplotlib inline"
   ]
  },
  {
   "cell_type": "code",
   "execution_count": 56,
   "metadata": {},
   "outputs": [
    {
     "name": "stderr",
     "output_type": "stream",
     "text": [
      "/var/folders/46/sq60ntjj7c5bqzjg23rs0_mm0000gn/T/ipykernel_927/1121963185.py:14: UserWarning: set_ticklabels() should only be used with a fixed number of ticks, i.e. after set_ticks() or using a FixedLocator.\n",
      "  plot.set_yticklabels(func_order, fontsize = 15)\n"
     ]
    },
    {
     "data": {
      "image/png": "[encoded data removed]",
      "text/plain": [
       "<Figure size 1500x900 with 1 Axes>"
      ]
     },
     "metadata": {},
     "output_type": "display_data"
    }
   ],
   "source": [
    "X = data1_num.fillna(data1_mean)\n",
    "\n",
    "correlations = {\n",
    "    feature: np.corrcoef(X[feature], depdelay_new)[0][1]\n",
    "    for feature in num_func\n",
    "}\n",
    "correlation = sorted(correlations.items(), key=lambda x: x[1], reverse=True)\n",
    "func_order = [x[0] for x in correlation]\n",
    "correlations = [x[1] for x in correlation]\n",
    "\n",
    "plot = sns.barplot(y = func_order, x = correlations)\n",
    "sns.set_style('ticks')\n",
    "plot.set_xlabel('Корреляция', fontsize = 15)\n",
    "plot.set_yticklabels(func_order, fontsize = 15)\n",
    "plot.figure.set_size_inches(15, 9)\n",
    "\n",
    "numeric_data = X.select_dtypes([np.number])\n",
    "numeric_data_mean = numeric_data.mean()\n",
    "numeric_features = numeric_data.columns"
   ]
  },
  {
   "cell_type": "code",
   "execution_count": 57,
   "metadata": {},
   "outputs": [],
   "source": [
    "\n",
    "X.drop('ArrDelay', axis = 1, inplace = True)"
   ]
  },
  {
   "cell_type": "markdown",
   "metadata": {},
   "source": [
    "**15. (1 балл)** Приведем данные к виду, пригодному для обучения линейных моделей. Для этого вещественные признаки надо отмасштабировать, а категориальные — привести к числовому виду. Также надо устранить пропуски в данных."
   ]
  },
  {
   "cell_type": "markdown",
   "metadata": {},
   "source": [
    "В первую очередь поймем, зачем необходимо применять масштабирование. Следующие ячейки с кодом построят гистограммы для 3 вещественных признаков выборки."
   ]
  },
  {
   "cell_type": "code",
   "execution_count": 58,
   "metadata": {
    "scrolled": true
   },
   "outputs": [
    {
     "data": {
      "text/plain": [
       "<Axes: >"
      ]
     },
     "execution_count": 58,
     "metadata": {},
     "output_type": "execute_result"
    },
    {
     "data": {
      "image/png": "[encoded data removed]",
      "text/plain": [
       "<Figure size 640x480 with 1 Axes>"
      ]
     },
     "metadata": {},
     "output_type": "display_data"
    }
   ],
   "source": [
    "X['DepTime_Hour'].hist(bins=20)"
   ]
  },
  {
   "cell_type": "code",
   "execution_count": 59,
   "metadata": {},
   "outputs": [
    {
     "data": {
      "text/plain": [
       "<Axes: >"
      ]
     },
     "execution_count": 59,
     "metadata": {},
     "output_type": "execute_result"
    },
    {
     "data": {
      "image/png": "[encoded data removed]",
      "text/plain": [
       "<Figure size 640x480 with 1 Axes>"
      ]
     },
     "metadata": {},
     "output_type": "display_data"
    }
   ],
   "source": [
    "X['TaxiIn'].hist(bins=20)"
   ]
  },
  {
   "cell_type": "code",
   "execution_count": 60,
   "metadata": {},
   "outputs": [
    {
     "data": {
      "text/plain": [
       "<Axes: >"
      ]
     },
     "execution_count": 60,
     "metadata": {},
     "output_type": "execute_result"
    },
    {
     "data": {
      "image/png": "[encoded data removed]",
      "text/plain": [
       "<Figure size 640x480 with 1 Axes>"
      ]
     },
     "metadata": {},
     "output_type": "display_data"
    }
   ],
   "source": [
    "X['FlightNum'].hist(bins=20)"
   ]
  },
  {
   "cell_type": "markdown",
   "metadata": {},
   "source": [
    "Какую проблему вы наблюдаете на этих графиках? Как масштабирование поможет её исправить?"
   ]
  },
  {
   "cell_type": "raw",
   "metadata": {},
   "source": []
  },
  {
   "cell_type": "markdown",
   "metadata": {},
   "source": [
    "Некоторые из признаков в нашем датасете являются категориальными. Типичным подходом к работе с ними является бинарное, или [one-hot-кодирование](https://en.wikipedia.org/wiki/One-hot).\n",
    "\n",
    "Реализуйте функцию transform_data, которая принимает на вход DataFrame с признаками и выполняет следующие шаги:\n",
    "1. Замена пропущенных значений на нули для вещественных признаков и на строки 'nan' для категориальных.\n",
    "2. Масштабирование вещественных признаков с помощью [StandardScaler](http://scikit-learn.org/stable/modules/generated/sklearn.preprocessing.StandardScaler.html).\n",
    "3. One-hot-кодирование категориальных признаков с помощью [DictVectorizer](http://scikit-learn.org/stable/modules/generated/sklearn.feature_extraction.DictVectorizer.html) или функции [pd.get_dummies](http://pandas.pydata.org/pandas-docs/stable/generated/pandas.get_dummies.html).\n",
    "\n",
    "Метод должен возвращать преобразованный DataFrame, который должна состоять из масштабированных вещественных признаков и закодированных категориальных (исходные признаки должны быть исключены из выборки)."
   ]
  },
  {
   "cell_type": "code",
   "execution_count": 66,
   "metadata": {},
   "outputs": [
    {
     "name": "stdout",
     "output_type": "stream",
     "text": [
      "Collecting scikit-learn\n",
      "  Obtaining dependency information for scikit-learn from https://files.pythonhosted.org/packages/f2/b4/c273b046e0f14e76ec33fdce82d70ddce1c796aaabadf436b3b8bf01ffb5/scikit_learn-1.3.1-cp311-cp311-macosx_10_9_x86_64.whl.metadata\n",
      "  Downloading scikit_learn-1.3.1-cp311-cp311-macosx_10_9_x86_64.whl.metadata (11 kB)\n",
      "Requirement already satisfied: numpy<2.0,>=1.17.3 in /usr/local/lib/python3.11/site-packages (from scikit-learn) (1.26.0)\n",
      "Collecting scipy>=1.5.0 (from scikit-learn)\n",
      "  Obtaining dependency information for scipy>=1.5.0 from https://files.pythonhosted.org/packages/b1/a6/b6d66d4f4045ba59200d25f254ccd63340162c903f95231e3ae6863fc4ae/scipy-1.11.3-cp311-cp311-macosx_10_9_x86_64.whl.metadata\n",
      "  Downloading scipy-1.11.3-cp311-cp311-macosx_10_9_x86_64.whl.metadata (60 kB)\n",
      "\u001b[2K     \u001b[90m━━━━━━━━━━━━━━━━━━━━━━━━━━━━━━━━━━━━━━━\u001b[0m \u001b[32m60.4/60.4 kB\u001b[0m \u001b[31m730.4 kB/s\u001b[0m eta \u001b[36m0:00:00\u001b[0m \u001b[36m0:00:01\u001b[0m\n",
      "\u001b[?25hCollecting joblib>=1.1.1 (from scikit-learn)\n",
      "  Obtaining dependency information for joblib>=1.1.1 from https://files.pythonhosted.org/packages/10/40/d551139c85db202f1f384ba8bcf96aca2f329440a844f924c8a0040b6d02/joblib-1.3.2-py3-none-any.whl.metadata\n",
      "  Downloading joblib-1.3.2-py3-none-any.whl.metadata (5.4 kB)\n",
      "Collecting threadpoolctl>=2.0.0 (from scikit-learn)\n",
      "  Obtaining dependency information for threadpoolctl>=2.0.0 from https://files.pythonhosted.org/packages/81/12/fd4dea011af9d69e1cad05c75f3f7202cdcbeac9b712eea58ca779a72865/threadpoolctl-3.2.0-py3-none-any.whl.metadata\n",
      "  Downloading threadpoolctl-3.2.0-py3-none-any.whl.metadata (10.0 kB)\n",
      "Downloading scikit_learn-1.3.1-cp311-cp311-macosx_10_9_x86_64.whl (10.1 MB)\n",
      "\u001b[2K   \u001b[90m━━━━━━━━━━━━━━━━━━━━━━━━━━━━━━━━━━━━━━━━\u001b[0m \u001b[32m10.1/10.1 MB\u001b[0m \u001b[31m4.4 MB/s\u001b[0m eta \u001b[36m0:00:00\u001b[0m00:01\u001b[0m0:01\u001b[0m\n",
      "\u001b[?25hUsing cached joblib-1.3.2-py3-none-any.whl (302 kB)\n",
      "Downloading scipy-1.11.3-cp311-cp311-macosx_10_9_x86_64.whl (37.2 MB)\n",
      "\u001b[2K   \u001b[90m━━━━━━━━━━━━━━━━━━━━━━━━━━━━━━━━━━━━━━━━\u001b[0m \u001b[32m37.2/37.2 MB\u001b[0m \u001b[31m6.2 MB/s\u001b[0m eta \u001b[36m0:00:00\u001b[0m00:01\u001b[0m00:01\u001b[0m\n",
      "\u001b[?25hUsing cached threadpoolctl-3.2.0-py3-none-any.whl (15 kB)\n",
      "Installing collected packages: threadpoolctl, scipy, joblib, scikit-learn\n",
      "Successfully installed joblib-1.3.2 scikit-learn-1.3.1 scipy-1.11.3 threadpoolctl-3.2.0\n"
     ]
    }
   ],
   "source": [
    "!pip install scikit-learn"
   ]
  },
  {
   "cell_type": "code",
   "execution_count": 67,
   "metadata": {},
   "outputs": [],
   "source": [
    "from sklearn.preprocessing import StandardScaler"
   ]
  },
  {
   "cell_type": "code",
   "execution_count": 68,
   "metadata": {},
   "outputs": [],
   "source": [
    "def transform_data(data):\n",
    "    num_data = data.select_dtypes(np.number).columns\n",
    "    categor_data = data.select_dtypes(object).columns\n",
    "    data[num_data] = data[num_data].fillna(0)\n",
    "    data[categor_data] = data[categor_data].fillna('nan')\n",
    "    \n",
    "    scaler = StandardScaler()\n",
    "    data[num_data] = scaler.fit_transform(data[num_data])\n",
    "    \n",
    "    categor_encoded = pd.get_dummies(data[categor_data])\n",
    "    data = pd.concat([data, categor_encoded], axis=1)\n",
    "    \n",
    "    data.drop(categor_data, axis=1, inplace=True)\n",
    "    \n",
    "    return data"
   ]
  },
  {
   "cell_type": "markdown",
   "metadata": {},
   "source": [
    "Примените функцию transform_data к данным. Сколько признаков получилось после преобразования?"
   ]
  },
  {
   "cell_type": "code",
   "execution_count": 69,
   "metadata": {},
   "outputs": [
    {
     "data": {
      "text/html": [
       "<div>\n",
       "<style scoped>\n",
       "    .dataframe tbody tr th:only-of-type {\n",
       "        vertical-align: middle;\n",
       "    }\n",
       "\n",
       "    .dataframe tbody tr th {\n",
       "        vertical-align: top;\n",
       "    }\n",
       "\n",
       "    .dataframe thead th {\n",
       "        text-align: right;\n",
       "    }\n",
       "</style>\n",
       "<table border=\"1\" class=\"dataframe\">\n",
       "  <thead>\n",
       "    <tr style=\"text-align: right;\">\n",
       "      <th></th>\n",
       "      <th>Month</th>\n",
       "      <th>DayofMonth</th>\n",
       "      <th>DayOfWeek</th>\n",
       "      <th>FlightNum</th>\n",
       "      <th>ActualElapsedTime</th>\n",
       "      <th>CRSElapsedTime</th>\n",
       "      <th>AirTime</th>\n",
       "      <th>ArrDelay</th>\n",
       "      <th>Distance</th>\n",
       "      <th>TaxiIn</th>\n",
       "      <th>...</th>\n",
       "      <th>Dest_TYR</th>\n",
       "      <th>Dest_TYS</th>\n",
       "      <th>Dest_VLD</th>\n",
       "      <th>Dest_VPS</th>\n",
       "      <th>Dest_WRG</th>\n",
       "      <th>Dest_WYS</th>\n",
       "      <th>Dest_XNA</th>\n",
       "      <th>Dest_YAK</th>\n",
       "      <th>Dest_YKM</th>\n",
       "      <th>Dest_YUM</th>\n",
       "    </tr>\n",
       "  </thead>\n",
       "  <tbody>\n",
       "    <tr>\n",
       "      <th>0</th>\n",
       "      <td>-0.118281</td>\n",
       "      <td>0.256485</td>\n",
       "      <td>-0.462767</td>\n",
       "      <td>-0.991600</td>\n",
       "      <td>-0.988979</td>\n",
       "      <td>-0.916826</td>\n",
       "      <td>-0.849307</td>\n",
       "      <td>-0.021975</td>\n",
       "      <td>-0.744130</td>\n",
       "      <td>-0.786908</td>\n",
       "      <td>...</td>\n",
       "      <td>False</td>\n",
       "      <td>False</td>\n",
       "      <td>False</td>\n",
       "      <td>False</td>\n",
       "      <td>False</td>\n",
       "      <td>False</td>\n",
       "      <td>False</td>\n",
       "      <td>False</td>\n",
       "      <td>False</td>\n",
       "      <td>False</td>\n",
       "    </tr>\n",
       "    <tr>\n",
       "      <th>1</th>\n",
       "      <td>-0.118281</td>\n",
       "      <td>-1.332050</td>\n",
       "      <td>-0.462767</td>\n",
       "      <td>0.106546</td>\n",
       "      <td>-0.040552</td>\n",
       "      <td>0.127377</td>\n",
       "      <td>0.064301</td>\n",
       "      <td>-0.175419</td>\n",
       "      <td>0.183961</td>\n",
       "      <td>-0.582387</td>\n",
       "      <td>...</td>\n",
       "      <td>False</td>\n",
       "      <td>False</td>\n",
       "      <td>False</td>\n",
       "      <td>False</td>\n",
       "      <td>False</td>\n",
       "      <td>False</td>\n",
       "      <td>False</td>\n",
       "      <td>False</td>\n",
       "      <td>False</td>\n",
       "      <td>False</td>\n",
       "    </tr>\n",
       "    <tr>\n",
       "      <th>2</th>\n",
       "      <td>0.467662</td>\n",
       "      <td>-1.445517</td>\n",
       "      <td>1.541454</td>\n",
       "      <td>-0.207284</td>\n",
       "      <td>0.157627</td>\n",
       "      <td>0.370547</td>\n",
       "      <td>0.314806</td>\n",
       "      <td>-0.712473</td>\n",
       "      <td>0.471018</td>\n",
       "      <td>-0.582387</td>\n",
       "      <td>...</td>\n",
       "      <td>False</td>\n",
       "      <td>False</td>\n",
       "      <td>False</td>\n",
       "      <td>False</td>\n",
       "      <td>False</td>\n",
       "      <td>False</td>\n",
       "      <td>False</td>\n",
       "      <td>False</td>\n",
       "      <td>False</td>\n",
       "      <td>False</td>\n",
       "    </tr>\n",
       "    <tr>\n",
       "      <th>3</th>\n",
       "      <td>-1.583137</td>\n",
       "      <td>0.823819</td>\n",
       "      <td>-0.462767</td>\n",
       "      <td>0.836931</td>\n",
       "      <td>-0.351976</td>\n",
       "      <td>-0.258835</td>\n",
       "      <td>-0.363032</td>\n",
       "      <td>-0.533455</td>\n",
       "      <td>-0.347886</td>\n",
       "      <td>-0.582387</td>\n",
       "      <td>...</td>\n",
       "      <td>False</td>\n",
       "      <td>False</td>\n",
       "      <td>False</td>\n",
       "      <td>False</td>\n",
       "      <td>False</td>\n",
       "      <td>False</td>\n",
       "      <td>False</td>\n",
       "      <td>False</td>\n",
       "      <td>False</td>\n",
       "      <td>False</td>\n",
       "    </tr>\n",
       "    <tr>\n",
       "      <th>4</th>\n",
       "      <td>-0.411252</td>\n",
       "      <td>-1.332050</td>\n",
       "      <td>1.541454</td>\n",
       "      <td>-0.910960</td>\n",
       "      <td>0.299183</td>\n",
       "      <td>0.442068</td>\n",
       "      <td>0.476898</td>\n",
       "      <td>-0.661325</td>\n",
       "      <td>0.634799</td>\n",
       "      <td>-0.582387</td>\n",
       "      <td>...</td>\n",
       "      <td>False</td>\n",
       "      <td>False</td>\n",
       "      <td>False</td>\n",
       "      <td>False</td>\n",
       "      <td>False</td>\n",
       "      <td>False</td>\n",
       "      <td>False</td>\n",
       "      <td>False</td>\n",
       "      <td>False</td>\n",
       "      <td>False</td>\n",
       "    </tr>\n",
       "    <tr>\n",
       "      <th>...</th>\n",
       "      <td>...</td>\n",
       "      <td>...</td>\n",
       "      <td>...</td>\n",
       "      <td>...</td>\n",
       "      <td>...</td>\n",
       "      <td>...</td>\n",
       "      <td>...</td>\n",
       "      <td>...</td>\n",
       "      <td>...</td>\n",
       "      <td>...</td>\n",
       "      <td>...</td>\n",
       "      <td>...</td>\n",
       "      <td>...</td>\n",
       "      <td>...</td>\n",
       "      <td>...</td>\n",
       "      <td>...</td>\n",
       "      <td>...</td>\n",
       "      <td>...</td>\n",
       "      <td>...</td>\n",
       "      <td>...</td>\n",
       "      <td>...</td>\n",
       "    </tr>\n",
       "    <tr>\n",
       "      <th>63399</th>\n",
       "      <td>-1.583137</td>\n",
       "      <td>1.164220</td>\n",
       "      <td>1.040399</td>\n",
       "      <td>1.564234</td>\n",
       "      <td>-0.238731</td>\n",
       "      <td>-0.230227</td>\n",
       "      <td>-0.274618</td>\n",
       "      <td>-0.431159</td>\n",
       "      <td>-0.120706</td>\n",
       "      <td>1.053782</td>\n",
       "      <td>...</td>\n",
       "      <td>False</td>\n",
       "      <td>False</td>\n",
       "      <td>False</td>\n",
       "      <td>False</td>\n",
       "      <td>False</td>\n",
       "      <td>False</td>\n",
       "      <td>False</td>\n",
       "      <td>False</td>\n",
       "      <td>False</td>\n",
       "      <td>False</td>\n",
       "    </tr>\n",
       "    <tr>\n",
       "      <th>63400</th>\n",
       "      <td>-0.411252</td>\n",
       "      <td>-0.424316</td>\n",
       "      <td>-1.464878</td>\n",
       "      <td>-0.708075</td>\n",
       "      <td>0.016071</td>\n",
       "      <td>-0.001361</td>\n",
       "      <td>-0.259882</td>\n",
       "      <td>-0.533455</td>\n",
       "      <td>-0.217566</td>\n",
       "      <td>3.098994</td>\n",
       "      <td>...</td>\n",
       "      <td>False</td>\n",
       "      <td>False</td>\n",
       "      <td>False</td>\n",
       "      <td>False</td>\n",
       "      <td>False</td>\n",
       "      <td>False</td>\n",
       "      <td>False</td>\n",
       "      <td>False</td>\n",
       "      <td>False</td>\n",
       "      <td>False</td>\n",
       "    </tr>\n",
       "    <tr>\n",
       "      <th>63401</th>\n",
       "      <td>-0.411252</td>\n",
       "      <td>-0.537783</td>\n",
       "      <td>1.541454</td>\n",
       "      <td>2.047563</td>\n",
       "      <td>-1.130535</td>\n",
       "      <td>-1.145693</td>\n",
       "      <td>-1.085076</td>\n",
       "      <td>0.336062</td>\n",
       "      <td>-1.043514</td>\n",
       "      <td>-0.582387</td>\n",
       "      <td>...</td>\n",
       "      <td>False</td>\n",
       "      <td>False</td>\n",
       "      <td>False</td>\n",
       "      <td>False</td>\n",
       "      <td>False</td>\n",
       "      <td>False</td>\n",
       "      <td>False</td>\n",
       "      <td>False</td>\n",
       "      <td>False</td>\n",
       "      <td>False</td>\n",
       "    </tr>\n",
       "    <tr>\n",
       "      <th>63402</th>\n",
       "      <td>-1.290166</td>\n",
       "      <td>0.256485</td>\n",
       "      <td>-1.464878</td>\n",
       "      <td>-0.786661</td>\n",
       "      <td>1.516567</td>\n",
       "      <td>1.286013</td>\n",
       "      <td>1.302092</td>\n",
       "      <td>0.310488</td>\n",
       "      <td>1.208912</td>\n",
       "      <td>2.689951</td>\n",
       "      <td>...</td>\n",
       "      <td>False</td>\n",
       "      <td>False</td>\n",
       "      <td>False</td>\n",
       "      <td>False</td>\n",
       "      <td>False</td>\n",
       "      <td>False</td>\n",
       "      <td>False</td>\n",
       "      <td>False</td>\n",
       "      <td>False</td>\n",
       "      <td>False</td>\n",
       "    </tr>\n",
       "    <tr>\n",
       "      <th>63403</th>\n",
       "      <td>1.639547</td>\n",
       "      <td>-1.105117</td>\n",
       "      <td>1.040399</td>\n",
       "      <td>-0.853947</td>\n",
       "      <td>-0.946512</td>\n",
       "      <td>-0.916826</td>\n",
       "      <td>-0.849307</td>\n",
       "      <td>-0.380011</td>\n",
       "      <td>-0.892061</td>\n",
       "      <td>-0.991430</td>\n",
       "      <td>...</td>\n",
       "      <td>False</td>\n",
       "      <td>False</td>\n",
       "      <td>False</td>\n",
       "      <td>False</td>\n",
       "      <td>False</td>\n",
       "      <td>False</td>\n",
       "      <td>False</td>\n",
       "      <td>False</td>\n",
       "      <td>False</td>\n",
       "      <td>False</td>\n",
       "    </tr>\n",
       "  </tbody>\n",
       "</table>\n",
       "<p>63404 rows × 634 columns</p>\n",
       "</div>"
      ],
      "text/plain": [
       "          Month  DayofMonth  DayOfWeek  FlightNum  ActualElapsedTime  \\\n",
       "0     -0.118281    0.256485  -0.462767  -0.991600          -0.988979   \n",
       "1     -0.118281   -1.332050  -0.462767   0.106546          -0.040552   \n",
       "2      0.467662   -1.445517   1.541454  -0.207284           0.157627   \n",
       "3     -1.583137    0.823819  -0.462767   0.836931          -0.351976   \n",
       "4     -0.411252   -1.332050   1.541454  -0.910960           0.299183   \n",
       "...         ...         ...        ...        ...                ...   \n",
       "63399 -1.583137    1.164220   1.040399   1.564234          -0.238731   \n",
       "63400 -0.411252   -0.424316  -1.464878  -0.708075           0.016071   \n",
       "63401 -0.411252   -0.537783   1.541454   2.047563          -1.130535   \n",
       "63402 -1.290166    0.256485  -1.464878  -0.786661           1.516567   \n",
       "63403  1.639547   -1.105117   1.040399  -0.853947          -0.946512   \n",
       "\n",
       "       CRSElapsedTime   AirTime  ArrDelay  Distance    TaxiIn  ...  Dest_TYR  \\\n",
       "0           -0.916826 -0.849307 -0.021975 -0.744130 -0.786908  ...     False   \n",
       "1            0.127377  0.064301 -0.175419  0.183961 -0.582387  ...     False   \n",
       "2            0.370547  0.314806 -0.712473  0.471018 -0.582387  ...     False   \n",
       "3           -0.258835 -0.363032 -0.533455 -0.347886 -0.582387  ...     False   \n",
       "4            0.442068  0.476898 -0.661325  0.634799 -0.582387  ...     False   \n",
       "...               ...       ...       ...       ...       ...  ...       ...   \n",
       "63399       -0.230227 -0.274618 -0.431159 -0.120706  1.053782  ...     False   \n",
       "63400       -0.001361 -0.259882 -0.533455 -0.217566  3.098994  ...     False   \n",
       "63401       -1.145693 -1.085076  0.336062 -1.043514 -0.582387  ...     False   \n",
       "63402        1.286013  1.302092  0.310488  1.208912  2.689951  ...     False   \n",
       "63403       -0.916826 -0.849307 -0.380011 -0.892061 -0.991430  ...     False   \n",
       "\n",
       "       Dest_TYS  Dest_VLD  Dest_VPS  Dest_WRG  Dest_WYS  Dest_XNA  Dest_YAK  \\\n",
       "0         False     False     False     False     False     False     False   \n",
       "1         False     False     False     False     False     False     False   \n",
       "2         False     False     False     False     False     False     False   \n",
       "3         False     False     False     False     False     False     False   \n",
       "4         False     False     False     False     False     False     False   \n",
       "...         ...       ...       ...       ...       ...       ...       ...   \n",
       "63399     False     False     False     False     False     False     False   \n",
       "63400     False     False     False     False     False     False     False   \n",
       "63401     False     False     False     False     False     False     False   \n",
       "63402     False     False     False     False     False     False     False   \n",
       "63403     False     False     False     False     False     False     False   \n",
       "\n",
       "       Dest_YKM  Dest_YUM  \n",
       "0         False     False  \n",
       "1         False     False  \n",
       "2         False     False  \n",
       "3         False     False  \n",
       "4         False     False  \n",
       "...         ...       ...  \n",
       "63399     False     False  \n",
       "63400     False     False  \n",
       "63401     False     False  \n",
       "63402     False     False  \n",
       "63403     False     False  \n",
       "\n",
       "[63404 rows x 634 columns]"
      ]
     },
     "execution_count": 69,
     "metadata": {},
     "output_type": "execute_result"
    }
   ],
   "source": [
    "dt = transform_data(data1)\n",
    "dt\n"
   ]
  },
  {
   "cell_type": "markdown",
   "metadata": {},
   "source": [
    "**16. (0.5 балла)** Разбейте выборку и вектор целевой переменной на обучение и контроль в отношении 70/30 (для этого можно использовать, например, функцию [train_test_split](http://scikit-learn.org/stable/modules/generated/sklearn.cross_validation.train_test_split.html)). "
   ]
  },
  {
   "cell_type": "code",
   "execution_count": 70,
   "metadata": {},
   "outputs": [],
   "source": [
    "from sklearn.model_selection import train_test_split\n",
    "\n",
    "X_train, X_test, y_train, y_test = train_test_split(dt, depdelay_new, test_size=0.3, random_state = 40)"
   ]
  },
  {
   "cell_type": "markdown",
   "metadata": {},
   "source": [
    "### Scikit-learn\n",
    "\n",
    "<img src = \"https://pp.vk.me/c4534/u35727827/93547647/x_d31c4463.jpg\">\n",
    "Теперь, когда мы привели данные к пригодному виду, попробуем решить задачу при помощи метода наименьших квадратов. Напомним, что данный метод заключается в оптимизации функционала $MSE$:\n",
    "\n",
    "$$MSE(X, y) = \\frac{1}{l} \\sum_{i=1}^l (<w, x_i> - y_i)^2 \\to \\min_{w},$$\n",
    "\n",
    "где $\\{ (x_i, y_i ) \\}_{i=1}^l$ — обучающая выборка, состоящая из $l$ пар объект-ответ.\n",
    "\n",
    "Заметим, что решение данной задачи уже реализовано в модуле sklearn в виде класса [LinearRegression](http://scikit-learn.org/stable/modules/generated/sklearn.linear_model.LinearRegression.html#sklearn.linear_model.LinearRegression).\n",
    "\n",
    "**17. (0.5 балла)** Обучите линейную регрессию на 1000 объектах из обучающей выборки и выведите значения $MSE$ и $R^2$ на этой подвыборке и контрольной выборке (итого 4 различных числа). Проинтерпретируйте полученный результат — насколько качественные прогнозы строит полученная модель? Какие проблемы наблюдаются в модели?\n",
    "\n",
    "**Подсказка**: изучите значения полученных коэффициентов $w$, сохраненных в атрибуте coef_ объекта LinearRegression."
   ]
  },
  {
   "cell_type": "code",
   "execution_count": 71,
   "metadata": {},
   "outputs": [],
   "source": [
    "from sklearn.linear_model import LinearRegression\n",
    "from sklearn.metrics import mean_squared_error, mean_absolute_error, r2_score"
   ]
  },
  {
   "cell_type": "markdown",
   "metadata": {
    "collapsed": true,
    "jupyter": {
     "outputs_hidden": true
    }
   },
   "source": [
    "Для решения описанных вами в предыдущем пункте проблем используем L1- или L2-регуляризацию, тем самым получив Lasso и Ridge регрессии соответственно и изменив оптимизационную задачу одним из следующих образов:\n",
    "$$MSE_{L1}(X, y) = \\frac{1}{l} \\sum_{i=1}^l (<w, x_i> - y_i)^2 + \\alpha ||w||_1 \\to \\min_{w},$$\n",
    "$$MSE_{L2}(X, y) = \\frac{1}{l} \\sum_{i=1}^l (<w, x_i> - y_i)^2 + \\alpha ||w||_2^2 \\to \\min_{w},$$\n",
    "\n",
    "где $\\alpha$ — коэффициент регуляризации. Один из способов его подбора заключается в переборе некоторого количества значений и оценке качества на кросс-валидации для каждого из них, после чего выбирается значение, для которого было получено наилучшее качество."
   ]
  },
  {
   "cell_type": "code",
   "execution_count": 73,
   "metadata": {},
   "outputs": [
    {
     "name": "stdout",
     "output_type": "stream",
     "text": [
      "MSE подвыборка: 2.4610865955006116e-26\n",
      "MSE контрольная выборка: 31.02742313250044\n",
      "R^2 подвыборка: 1.0\n",
      "R^2 контрольная выборка: 0.9734887078309666\n"
     ]
    }
   ],
   "source": [
    "x_train_1 = X_train[:1000]\n",
    "y_train_1 = y_train[:1000]\n",
    "\n",
    "rgr = LinearRegression().fit(x_train_1, y_train_1)\n",
    "\n",
    "y_train_pred = rgr.predict(x_train_1)\n",
    "y_pred = rgr.predict(X_test)\n",
    "\n",
    "y_train_mse = mean_squared_error(y_train_1, y_train_pred)\n",
    "y_mse = mean_squared_error(y_test, y_pred)\n",
    "\n",
    "y_train_r2 = r2_score(y_train_1, y_train_pred)\n",
    "y_r2 = r2_score(y_test, y_pred)\n",
    "\n",
    "print('MSE подвыборка:', y_train_mse)\n",
    "print('MSE контрольная выборка:', y_mse)\n",
    "print('R^2 подвыборка:', y_train_r2)\n",
    "print('R^2 контрольная выборка:', y_r2)"
   ]
  },
  {
   "cell_type": "markdown",
   "metadata": {},
   "source": [
    "__18. (1 балл) __ Обучение линейной регрессии.\n",
    "\n",
    "\n",
    "\n",
    "Обучите линейную регрессию с $L_1$ (Lasso) и $L_2$ (Ridge) регуляризаторами (используйте параметры по умолчанию). Посмотрите, какое количество коэффициентов близко к 0 (степень близости к 0 определите сами из разумных пределов). Постройте график зависимости числа ненулевых коэффициентов от коэффицента регуляризации (перебирайте значения по логарифмической сетке от $10^{-3}$ до $10^3$). Согласуются ли результаты с вашими ожиданиями?"
   ]
  },
  {
   "cell_type": "code",
   "execution_count": 74,
   "metadata": {},
   "outputs": [],
   "source": [
    "from sklearn.linear_model import Lasso, Ridge\n",
    "import matplotlib.pyplot as plt"
   ]
  },
  {
   "cell_type": "code",
   "execution_count": 75,
   "metadata": {},
   "outputs": [
    {
     "name": "stdout",
     "output_type": "stream",
     "text": [
      "Lasso: 629\n",
      "Ridge: 288\n"
     ]
    }
   ],
   "source": [
    "Las = Lasso().fit(x_train_1, y_train_1)\n",
    "Rdg = Ridge().fit(x_train_1, y_train_1)\n",
    "\n",
    "Lz = np.sum(Las.coef_ == 0)\n",
    "Rz = np.sum(Rdg.coef_ == 0)\n",
    "print('Lasso:', Lz)\n",
    "print('Ridge:', Rz)"
   ]
  },
  {
   "cell_type": "code",
   "execution_count": 77,
   "metadata": {},
   "outputs": [
    {
     "name": "stderr",
     "output_type": "stream",
     "text": [
      "/usr/local/lib/python3.11/site-packages/sklearn/linear_model/_coordinate_descent.py:628: ConvergenceWarning: Objective did not converge. You might want to increase the number of iterations, check the scale of the features or consider increasing regularisation. Duality gap: 1.768e+02, tolerance: 1.130e+02\n",
      "  model = cd_fast.enet_coordinate_descent(\n",
      "/usr/local/lib/python3.11/site-packages/sklearn/linear_model/_coordinate_descent.py:628: ConvergenceWarning: Objective did not converge. You might want to increase the number of iterations, check the scale of the features or consider increasing regularisation. Duality gap: 3.630e+02, tolerance: 1.130e+02\n",
      "  model = cd_fast.enet_coordinate_descent(\n",
      "/usr/local/lib/python3.11/site-packages/sklearn/linear_model/_coordinate_descent.py:628: ConvergenceWarning: Objective did not converge. You might want to increase the number of iterations, check the scale of the features or consider increasing regularisation. Duality gap: 7.391e+02, tolerance: 1.130e+02\n",
      "  model = cd_fast.enet_coordinate_descent(\n",
      "/usr/local/lib/python3.11/site-packages/sklearn/linear_model/_coordinate_descent.py:628: ConvergenceWarning: Objective did not converge. You might want to increase the number of iterations, check the scale of the features or consider increasing regularisation. Duality gap: 1.473e+03, tolerance: 1.130e+02\n",
      "  model = cd_fast.enet_coordinate_descent(\n",
      "/usr/local/lib/python3.11/site-packages/sklearn/linear_model/_coordinate_descent.py:628: ConvergenceWarning: Objective did not converge. You might want to increase the number of iterations, check the scale of the features or consider increasing regularisation. Duality gap: 2.795e+03, tolerance: 1.130e+02\n",
      "  model = cd_fast.enet_coordinate_descent(\n",
      "/usr/local/lib/python3.11/site-packages/sklearn/linear_model/_coordinate_descent.py:628: ConvergenceWarning: Objective did not converge. You might want to increase the number of iterations, check the scale of the features or consider increasing regularisation. Duality gap: 4.706e+03, tolerance: 1.130e+02\n",
      "  model = cd_fast.enet_coordinate_descent(\n"
     ]
    },
    {
     "data": {
      "image/png": "[encoded data removed]",
      "text/plain": [
       "<Figure size 2000x700 with 2 Axes>"
      ]
     },
     "metadata": {},
     "output_type": "display_data"
    }
   ],
   "source": [
    "a = np.logspace(-3, 3, 20)\n",
    "L_1 = list()\n",
    "L_2 = list()\n",
    "\n",
    "for i in range(len(a)):\n",
    "    Lasso_a = Lasso(a[i]).fit(x_train_1, y_train_1)\n",
    "    Ridge_a = Ridge(a[i]).fit(x_train_1, y_train_1)\n",
    "    L_1.append(np.sum(Lasso_a.coef_ != 0))\n",
    "    L_2.append(np.sum(Ridge_a.coef_ != 0))\n",
    "    \n",
    "fig, ax = plt.subplots(1, 2, figsize = (20, 7))\n",
    "\n",
    "ax[0].plot(a, L_1, label='Lasso')\n",
    "ax[0].set_xscale('log')\n",
    "ax[0].set_xlabel('Коэффициент регуляризации', fontsize=15)\n",
    "ax[0].set_ylabel('Число ненулевых коэффициентов', fontsize=15)\n",
    "ax[0].set_title('Lasso', fontsize=18)\n",
    "ax[0].grid()\n",
    "\n",
    "ax[1].plot(a, L_2, label='Ridge')\n",
    "ax[1].set_xscale('log')\n",
    "ax[1].set_xlabel('Коэффициент регуляризации', fontsize=15)\n",
    "ax[1].set_ylabel('Число ненулевых коэффициентов', fontsize=15)\n",
    "ax[1].set_title('Ridge', fontsize=18)\n",
    "ax[1].grid()"
   ]
  },
  {
   "cell_type": "markdown",
   "metadata": {},
   "source": [
    "Посчитайте для Ridge-регрессии следующие метрики: $RMSE$, $MAE$, $R^2$."
   ]
  },
  {
   "cell_type": "code",
   "execution_count": 78,
   "metadata": {},
   "outputs": [],
   "source": [
    "from sklearn.metrics import make_scorer"
   ]
  },
  {
   "cell_type": "code",
   "execution_count": 79,
   "metadata": {},
   "outputs": [
    {
     "name": "stdout",
     "output_type": "stream",
     "text": [
      "RMSE = 5.340124692541743\n",
      "MAE = 0.9910681290713936\n",
      "R^2 = 0.9756337899644425\n"
     ]
    }
   ],
   "source": [
    "def RMSE(y, y_pred):\n",
    "    error = (y - y_pred) ** 2\n",
    "    return np.sqrt(np.mean(error))\n",
    "\n",
    "RMSE_scorer = make_scorer(RMSE, greater_is_better=False)\n",
    "y_pred = Rdg.predict(X_test)\n",
    "print(\"RMSE =\", RMSE(y_test, y_pred))\n",
    "print(\"MAE =\", mean_absolute_error(y_test, y_pred))\n",
    "print(\"R^2 =\", r2_score(y_test, y_pred))"
   ]
  },
  {
   "cell_type": "markdown",
   "metadata": {},
   "source": [
    "Подберите на обучающей выборке для Ridge-регрессии коэффициент регуляризации (перебирайте значения по логарифмической сетке от $10^{-3}$ до $10^3$) для каждой из метрик при помощи кросс-валидации c 5 фолдами на тех же 1000 объектах. Для этого воспользуйтесь GridSearchCV и KFold из sklearn. Постройте графики зависимости фукнции потерь от коэффициента регуляризации. Посчитайте те же метрики снова. Заметно ли изменилось качество?\n",
    "\n",
    "Для выполнения данного задания вам могут понадобиться реализованные в библиотеке объекты [LassoCV](http://scikit-learn.org/stable/modules/generated/sklearn.linear_model.LassoCV.html), [RidgeCV](http://scikit-learn.org/stable/modules/generated/sklearn.linear_model.RidgeCV.html) и [KFold](http://scikit-learn.org/stable/modules/generated/sklearn.cross_validation.KFold.html)."
   ]
  },
  {
   "cell_type": "code",
   "execution_count": 80,
   "metadata": {},
   "outputs": [],
   "source": [
    "from sklearn.model_selection import GridSearchCV\n"
   ]
  },
  {
   "cell_type": "code",
   "execution_count": 81,
   "metadata": {},
   "outputs": [
    {
     "name": "stdout",
     "output_type": "stream",
     "text": [
      "RMSE alpha = 0.0010\n"
     ]
    },
    {
     "data": {
      "image/png": "[encoded data removed]",
      "text/plain": [
       "<Figure size 1200x500 with 1 Axes>"
      ]
     },
     "metadata": {},
     "output_type": "display_data"
    }
   ],
   "source": [
    "searcher_rmse = GridSearchCV(Ridge(), [{\"alpha\": a}], scoring=RMSE_scorer, cv=5).fit(x_train_1, y_train_1)\n",
    "best_alpha_rmse = searcher_rmse.best_params_[\"alpha\"]\n",
    "print(\"RMSE alpha = %.4f\" % best_alpha_rmse)\n",
    "\n",
    "fig = plt.figure(figsize=(12, 5))\n",
    "plt.plot(a, -searcher_rmse.cv_results_[\"mean_test_score\"], label='RMSE', color = 'gold')\n",
    "fig.suptitle(\"Зависимость функции потерь от коэффициента регуляризации\", fontsize=15)\n",
    "plt.xscale(\"log\")\n",
    "plt.xlabel(\"Коэффициент регуляризации\")\n",
    "plt.ylabel(\"Функция потерь\")\n",
    "plt.grid()\n",
    "plt.legend()\n",
    "plt.show()"
   ]
  },
  {
   "cell_type": "code",
   "execution_count": 82,
   "metadata": {},
   "outputs": [
    {
     "name": "stdout",
     "output_type": "stream",
     "text": [
      "MAE alpha = 0.0010\n"
     ]
    },
    {
     "data": {
      "image/png": "[encoded data removed]",
      "text/plain": [
       "<Figure size 1200x500 with 1 Axes>"
      ]
     },
     "metadata": {},
     "output_type": "display_data"
    }
   ],
   "source": [
    "searcher_mae = GridSearchCV(Ridge(), [{\"alpha\": a}], scoring='neg_mean_absolute_error', cv=5).fit(x_train_1, y_train_1)\n",
    "best_alpha_mae = searcher_mae.best_params_[\"alpha\"]\n",
    "print(\"MAE alpha = %.4f\" % best_alpha_mae)\n",
    "\n",
    "fig = plt.figure(figsize=(12, 5))\n",
    "plt.plot(a, -searcher_mae.cv_results_[\"mean_test_score\"], label='MAE', color = 'red')\n",
    "fig.suptitle(\"Зависимость функции потерь от коэффициента регуляризации\", fontsize=15)\n",
    "plt.xscale(\"log\")\n",
    "plt.xlabel(\"Коэффициент регуляризации\")\n",
    "plt.ylabel(\"Функция потерь\")\n",
    "plt.grid()\n",
    "plt.legend()\n",
    "plt.show()"
   ]
  },
  {
   "cell_type": "code",
   "execution_count": 83,
   "metadata": {},
   "outputs": [
    {
     "name": "stdout",
     "output_type": "stream",
     "text": [
      "R^2 alpha= 0.3360\n"
     ]
    },
    {
     "data": {
      "image/png": "[encoded data removed]",
      "text/plain": [
       "<Figure size 1200x500 with 1 Axes>"
      ]
     },
     "metadata": {},
     "output_type": "display_data"
    }
   ],
   "source": [
    "searcher_r2 = GridSearchCV(Ridge(), [{\"alpha\": a}], scoring='r2', cv=5).fit(x_train_1, y_train_1)\n",
    "best_alpha_r2 = searcher_r2.best_params_[\"alpha\"]\n",
    "print(\"R^2 alpha= %.4f\" % best_alpha_r2)\n",
    "\n",
    "fig = plt.figure(figsize=(12, 5))\n",
    "plt.plot(a, -searcher_r2.cv_results_[\"mean_test_score\"],label='R2', color = 'green')\n",
    "fig.suptitle(\"Зависимость функции потерь от коэффициента регуляризации\", fontsize=15)\n",
    "plt.xscale(\"log\")\n",
    "plt.xlabel(\"Коэффициент регуляризации\")\n",
    "plt.ylabel(\"Функция потерь\")\n",
    "plt.grid()\n",
    "plt.legend()\n",
    "plt.show()"
   ]
  },
  {
   "cell_type": "markdown",
   "metadata": {
    "collapsed": true,
    "jupyter": {
     "outputs_hidden": true
    }
   },
   "source": [
    "__19. (0.5 балла)__ Поиск объектов-выбросов\n",
    "\n",
    "\n",
    "Как известно, MSE сильно штрафует за большие ошибки на объектах-выбросах. С помощью cross_val_predict сделайте Out-of-Fold предсказания для обучающей выборки. Посчитайте ошибки и посмотрите на их распределение (plt.hist). Что вы видите?"
   ]
  },
  {
   "cell_type": "code",
   "execution_count": 84,
   "metadata": {},
   "outputs": [],
   "source": [
    "from sklearn.model_selection import GridSearchCV, cross_val_predict"
   ]
  },
  {
   "cell_type": "code",
   "execution_count": 87,
   "metadata": {},
   "outputs": [
    {
     "data": {
      "image/png": "[encoded data removed]",
      "text/plain": [
       "<Figure size 640x480 with 1 Axes>"
      ]
     },
     "metadata": {},
     "output_type": "display_data"
    }
   ],
   "source": [
    "Rdg = Ridge()\n",
    "y_pred = cross_val_predict(Rdg, X_test, y_test)\n",
    "error = (y_pred - y_test) ** 2\n",
    "plt.hist(error, bins = 25, color = 'green')\n",
    "plt.yscale(\"log\")"
   ]
  }
 ],
 "metadata": {
  "kernelspec": {
   "display_name": "Python 3 (ipykernel)",
   "language": "python",
   "name": "python3"
  },
  "language_info": {
   "codemirror_mode": {
    "name": "ipython",
    "version": 3
   },
   "file_extension": ".py",
   "mimetype": "text/x-python",
   "name": "python",
   "nbconvert_exporter": "python",
   "pygments_lexer": "ipython3",
   "version": "3.11.3"
  }
 },
 "nbformat": 4,
 "nbformat_minor": 4
}
